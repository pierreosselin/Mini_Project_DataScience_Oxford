{
 "cells": [
  {
   "cell_type": "code",
   "execution_count": null,
   "metadata": {},
   "outputs": [],
   "source": [
    "listHomo = []\n",
    "for i in range(43):\n",
    "    G = nx.from_numpy_matrix(lData[i])\n",
    "    lol = lHouseVill[i]\n",
    "    listIndex1 = []\n",
    "    listIndex2 = []\n",
    "    for j in range(lol.shape[0]):\n",
    "        if lol[j, -1] == 1:\n",
    "            listIndex1.append(j)\n",
    "        else:\n",
    "            listIndex2.append(j)\n",
    "    denom = 0\n",
    "    m = G.number_of_edges()\n",
    "    for r in listIndex1:\n",
    "        kr = G.degree[r] \n",
    "        for s in listIndex1:\n",
    "            ks = G.degree[s]\n",
    "            denom += kr*ks/(2*m)\n",
    "    for r in listIndex2:\n",
    "        kr = G.degree[r] \n",
    "        for s in listIndex2:\n",
    "            ks = G.degree[s]\n",
    "            denom += kr*ks/(2*m) \n",
    "    denom = (1/(2*m))*(2*m - denom)\n",
    "    print(denom)\n",
    "    mod = Modularity(G, [listIndex1, listIndex2])\n",
    "    print(mod)\n",
    "    listHomo.append(mod/denom)"
   ]
  }
 ],
 "metadata": {
  "kernelspec": {
   "display_name": "Python 3",
   "language": "python",
   "name": "python3"
  },
  "language_info": {
   "codemirror_mode": {
    "name": "ipython",
    "version": 3
   },
   "file_extension": ".py",
   "mimetype": "text/x-python",
   "name": "python",
   "nbconvert_exporter": "python",
   "pygments_lexer": "ipython3",
   "version": "3.6.7"
  }
 },
 "nbformat": 4,
 "nbformat_minor": 2
}
