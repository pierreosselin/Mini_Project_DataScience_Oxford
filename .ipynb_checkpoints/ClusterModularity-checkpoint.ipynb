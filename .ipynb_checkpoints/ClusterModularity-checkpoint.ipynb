{
 "cells": [
  {
   "cell_type": "code",
   "execution_count": 1,
   "metadata": {},
   "outputs": [],
   "source": [
    "import community\n",
    "import numpy as np\n",
    "from math import *\n",
    "import networkx as nx\n",
    "import matplotlib.pyplot as plt\n",
    "from igraph import *\n",
    "import pandas as pd\n",
    "import seaborn as sns\n",
    "from scipy.stats import linregress\n",
    "from scipy.stats import norm\n",
    "from scipy.stats import chi2_contingency\n",
    "from matplotlib.patches import Rectangle"
   ]
  },
  {
   "cell_type": "code",
   "execution_count": 2,
   "metadata": {},
   "outputs": [],
   "source": [
    "def partitionAnal(dictPart, lHouse):\n",
    "    lFraction = []\n",
    "    lMax = []\n",
    "    lValues = list(dictPart.values())\n",
    "    dUse = {}\n",
    "    for val in lValues:\n",
    "        dUse[val] = []\n",
    "    for node, val in dictPart.items():\n",
    "        dUse[val].append(node)\n",
    "    for part, lNodes in dUse.items():\n",
    "        denom = 0\n",
    "        n = len(lNodes)\n",
    "        if n > 1:\n",
    "            for node in lNodes:\n",
    "                if lHouse[node, -1] == 1:\n",
    "                    denom += 1\n",
    "            lFraction.append((n,denom/n))\n",
    "            lMax.append((denom/n, n))\n",
    "    maxEl = max(lMax)\n",
    "    return [lFraction, maxEl, dUse]"
   ]
  },
  {
   "cell_type": "code",
   "execution_count": 3,
   "metadata": {},
   "outputs": [],
   "source": [
    "path = \"/home/pierre/Documents/CourseOxford/MiniProjectData/social_0/social/adjacency_matrices/\"\n",
    "lData = []\n",
    "def importMat(i):\n",
    "    mat = pd.read_csv(path + \"adjmat\" + str(i) + \".csv\", header=None)\n",
    "    return mat\n",
    "\n",
    "for i in range(43):\n",
    "    lData.append(importMat(i+1).values)\n",
    "\n",
    "dfHouse = pd.read_csv(\"/home/pierre/Documents/CourseOxford/MiniProjectData/social_0/social/householdcharacteristics.csv\")\n",
    "for i in range(dfHouse.shape[0]):\n",
    "    if dfHouse.iloc[i][\"ownrent\"] == \"LEASED\":\n",
    "        print(dfHouse.iloc[i])\n",
    "        dfHouse.iloc[i][\"ownrent\"] = \"RENTED\"\n",
    "matHouse = dfHouse.values\n",
    "lHouseVill = []\n",
    "lHouseVillDf = []\n",
    "c = 0\n",
    "for i in range(43):\n",
    "    a = lData[i].shape[0]\n",
    "    lHouseVill.append(matHouse[c:c + a])\n",
    "    c += a"
   ]
  },
  {
   "cell_type": "code",
   "execution_count": 16,
   "metadata": {},
   "outputs": [
    {
     "name": "stdout",
     "output_type": "stream",
     "text": [
      "[[(36, 0.3055555555555556), (36, 0.19444444444444445), (15, 0.26666666666666666), (29, 0.1724137931034483), (22, 0.2727272727272727), (13, 0.23076923076923078), (24, 0.25)], [(49, 0.1836734693877551), (25, 0.08), (18, 0.16666666666666666), (19, 0.15789473684210525), (67, 0.13432835820895522)], [(43, 0.3023255813953488), (59, 0.288135593220339), (47, 0.0425531914893617), (45, 0.022222222222222223), (69, 0.07246376811594203), (9, 0.0)], [(39, 0.0), (25, 0.04), (43, 0.0), (53, 0.2830188679245283), (21, 0.0), (11, 0.09090909090909091), (30, 0.0)], [(22, 0.36363636363636365), (9, 0.3333333333333333), (19, 0.15789473684210525), (19, 0.21052631578947367), (10, 0.3), (14, 0.07142857142857142), (14, 0.21428571428571427)], [(43, 0.06976744186046512), (57, 0.2807017543859649), (23, 0.30434782608695654), (42, 0.11904761904761904), (36, 0.16666666666666666)], [(23, 0.08695652173913043), (25, 0.36), (33, 0.18181818181818182), (19, 0.3157894736842105), (9, 0.0), (22, 0.4090909090909091), (14, 0.7142857142857143), (21, 0.3333333333333333)], [(20, 0.15), (24, 0.08333333333333333), (29, 0.3103448275862069), (16, 0.0625), (16, 0.0), (11, 0.0), (17, 0.058823529411764705), (37, 0.10810810810810811)], [(39, 0.05128205128205128), (23, 0.08695652173913043), (34, 0.23529411764705882), (13, 0.15384615384615385), (48, 0.2916666666666667), (43, 0.3023255813953488)], [(11, 0.2727272727272727), (20, 0.25), (27, 0.5555555555555556), (26, 0.3076923076923077), (22, 0.22727272727272727), (26, 0.4230769230769231)], [(35, 0.34285714285714286), (23, 0.4782608695652174), (35, 0.7714285714285715), (34, 0.3235294117647059), (19, 0.3684210526315789), (29, 0.27586206896551724), (18, 0.6111111111111112)], [(38, 0.2631578947368421), (39, 0.05128205128205128), (22, 0.09090909090909091), (43, 0.27906976744186046), (41, 0.14634146341463414), (29, 0.13793103448275862), (24, 0.0)], [(5, 0.0), (33, 0.15151515151515152), (19, 0.2631578947368421), (34, 0.17647058823529413), (27, 0.2222222222222222), (40, 0.2)], [(28, 0.14285714285714285), (35, 0.37142857142857144), (31, 0.03225806451612903), (24, 0.3333333333333333), (24, 0.2916666666666667), (55, 0.10909090909090909), (38, 0.05263157894736842), (8, 0.0)], [(27, 0.25925925925925924), (42, 0.23809523809523808), (23, 0.30434782608695654), (34, 0.3235294117647059), (62, 0.2903225806451613), (27, 0.2222222222222222), (33, 0.30303030303030304), (18, 0.05555555555555555), (4, 0.5)], [(11, 0.8181818181818182), (56, 0.25), (14, 0.35714285714285715), (30, 0.4), (24, 0.4583333333333333), (9, 0.0)], [(32, 0.0), (41, 0.07317073170731707), (13, 0.46153846153846156), (47, 0.3404255319148936), (47, 0.0851063829787234), (26, 0.34615384615384615), (21, 0.19047619047619047)], [(27, 0.2962962962962963), (33, 0.15151515151515152), (31, 0.22580645161290322), (40, 0.075), (26, 0.11538461538461539), (23, 0.34782608695652173), (14, 0.14285714285714285)], [(67, 0.16417910447761194), (59, 0.0847457627118644), (19, 0.05263157894736842), (37, 0.02702702702702703), (28, 0.10714285714285714), (59, 0.0)], [(14, 0.2857142857142857), (21, 0.19047619047619047), (44, 0.13636363636363635), (22, 0.22727272727272727), (31, 0.3225806451612903), (51, 0.09803921568627451), (33, 0.18181818181818182), (39, 0.2564102564102564), (19, 0.15789473684210525)], [(42, 0.4523809523809524), (23, 0.34782608695652173), (21, 0.19047619047619047), (37, 0.21621621621621623), (18, 0.6111111111111112), (32, 0.3125)], [(37, 0.24324324324324326), (22, 0.45454545454545453), (42, 0.35714285714285715), (32, 0.125), (19, 0.05263157894736842), (25, 0.0), (4, 0.75), (11, 0.45454545454545453)], [(21, 0.19047619047619047), (13, 0.3076923076923077), (19, 0.2631578947368421), (22, 0.2727272727272727), (22, 0.22727272727272727), (30, 0.13333333333333333), (23, 0.08695652173913043), (36, 0.3888888888888889), (25, 0.0)], [(19, 0.2631578947368421), (84, 0.2976190476190476), (43, 0.3023255813953488), (32, 0.0625), (37, 0.2972972972972973), (36, 0.08333333333333333)], [(20, 0.15), (31, 0.1935483870967742), (28, 0.32142857142857145), (8, 0.125), (33, 0.2727272727272727), (11, 0.18181818181818182)], [(34, 0.38235294117647056), (31, 0.2903225806451613), (42, 0.047619047619047616), (20, 0.05), (15, 0.06666666666666667), (33, 0.21212121212121213)], [(11, 0.2727272727272727), (50, 0.02), (31, 0.16129032258064516), (42, 0.07142857142857142), (38, 0.02631578947368421), (18, 0.16666666666666666), (33, 0.15151515151515152)], [(34, 0.11764705882352941), (29, 0.034482758620689655), (21, 0.0), (41, 0.4146341463414634), (56, 0.05357142857142857), (55, 0.07272727272727272)], [(82, 0.08536585365853659), (27, 0.2962962962962963), (42, 0.09523809523809523), (69, 0.014492753623188406), (53, 0.11320754716981132), (43, 0.13953488372093023)], [(44, 0.4772727272727273), (44, 0.022727272727272728), (31, 0.0), (52, 0.038461538461538464), (20, 0.05), (55, 0.03636363636363636)], [(40, 0.2), (31, 0.1935483870967742), (26, 0.15384615384615385), (24, 0.0), (20, 0.05), (14, 0.07142857142857142), (24, 0.25), (17, 0.23529411764705882)], [(28, 0.17857142857142858), (45, 0.044444444444444446), (44, 0.0), (45, 0.06666666666666667), (66, 0.09090909090909091), (26, 0.3076923076923077), (56, 0.03571428571428571)], [(64, 0.0625), (16, 0.0625), (8, 0.125), (68, 0.14705882352941177), (87, 0.2988505747126437), (34, 0.08823529411764706), (41, 0.0), (13, 0.46153846153846156), (10, 0.0)], [(34, 0.14705882352941177), (21, 0.0), (27, 0.07407407407407407), (25, 0.16), (32, 0.15625), (47, 0.3617021276595745)], [(34, 0.058823529411764705), (35, 0.2), (32, 0.28125), (30, 0.16666666666666666), (29, 0.034482758620689655), (27, 0.037037037037037035), (34, 0.058823529411764705), (27, 0.0)], [(41, 0.14634146341463414), (45, 0.3333333333333333), (39, 0.05128205128205128), (28, 0.14285714285714285), (63, 0.1111111111111111), (32, 0.1875), (39, 0.20512820512820512)], [(38, 0.34210526315789475), (28, 0.35714285714285715), (62, 0.41935483870967744), (46, 0.08695652173913043), (17, 0.23529411764705882)], [(33, 0.30303030303030304), (28, 0.14285714285714285), (12, 0.0), (14, 0.21428571428571427), (19, 0.10526315789473684), (21, 0.09523809523809523), (23, 0.043478260869565216)], [(20, 0.1), (48, 0.125), (23, 0.08695652173913043), (36, 0.2777777777777778), (22, 0.36363636363636365), (25, 0.24), (25, 0.32)], [(36, 0.2777777777777778), (61, 0.13114754098360656), (59, 0.0847457627118644), (33, 0.030303030303030304), (42, 0.42857142857142855), (38, 0.07894736842105263), (17, 0.11764705882352941)], [(63, 0.36507936507936506), (51, 0.11764705882352941), (60, 0.03333333333333333), (39, 0.07692307692307693)], [(25, 0.16), (41, 0.34146341463414637), (16, 0.0625), (32, 0.125), (11, 0.09090909090909091), (18, 0.1111111111111111), (27, 0.14814814814814814)], [(46, 0.15217391304347827), (37, 0.02702702702702703), (18, 0.3888888888888889), (29, 0.27586206896551724), (34, 0.47058823529411764)]]\n"
     ]
    }
   ],
   "source": [
    "lResult = []\n",
    "lMean = []\n",
    "lMax = []\n",
    "ldUse = []\n",
    "for i in range(43):\n",
    "    mat = lData[i]\n",
    "    G = nx.from_numpy_matrix(mat)\n",
    "    dictCom = community.best_partition(G)\n",
    "    [lFraction, maxEl, dUse] = partitionAnal(dictCom, lHouseVill[i])\n",
    "    ldUse.append(dUse)\n",
    "    lResult.append(lFraction)\n",
    "    maxEl = tuple((list(maxEl)) + [i])\n",
    "    lMax.append(maxEl)\n",
    "lMaxSorted = sorted(lMax, key=lambda k: k[0])\n",
    "print(lResult)"
   ]
  },
  {
   "cell_type": "markdown",
   "metadata": {},
   "source": [
    "Chi-Square test we treat each individual as an experiment with $X_{i}$ class of the cluster and $Y_{i}$ whether adoption or not. We want to know if thos two variables are independent for each village."
   ]
  },
  {
   "cell_type": "code",
   "execution_count": 5,
   "metadata": {},
   "outputs": [],
   "source": [
    "def createContingencyTable(lCluster):\n",
    "    table = np.zeros((2,len(lCluster)), dtype = int) # table[0] = non adopter\n",
    "    for index, cluster in enumerate(lCluster):\n",
    "        nAdopters = cluster[0]*cluster[1]\n",
    "        table[1][index] = round(nAdopters)\n",
    "        table[0][index] = cluster[0] - nAdopters\n",
    "    return table"
   ]
  },
  {
   "cell_type": "code",
   "execution_count": 6,
   "metadata": {},
   "outputs": [],
   "source": [
    "def computeChiTest(index, lResult):\n",
    "    lCluster = lResult[index]\n",
    "    table = createContingencyTable(lCluster)\n",
    "    res = chi2_contingency(table)\n",
    "    return res"
   ]
  },
  {
   "cell_type": "code",
   "execution_count": 28,
   "metadata": {},
   "outputs": [
    {
     "data": {
      "image/png": "[encoded data removed]",
      "text/plain": [
       "<Figure size 432x288 with 1 Axes>"
      ]
     },
     "metadata": {
      "needs_background": "light"
     },
     "output_type": "display_data"
    },
    {
     "name": "stdout",
     "output_type": "stream",
     "text": [
      "[(0, 0.901325920957894), (1, 0.811128735288512), (2, 3.446066005139422e-06), (3, 9.383624848872028e-08), (4, 0.47256340171417155), (5, 0.029466700744360853), (6, 0.0009365732399621506), (7, 0.029932970134767735), (8, 0.026018155330585237), (9, 0.13713218450962786), (10, 0.0004316995661938087), (11, 0.00913090162693514), (12, 0.7913308715602524), (13, 0.00018637300589513178), (14, 0.558219498795457), (15, 0.0016460006394594052), (16, 1.380445209768012e-05), (17, 0.08731785325739333), (18, 0.017107458644994758), (19, 0.31698797172558746), (20, 0.024981058217525352), (21, 7.283982319641645e-05), (22, 0.01761502175091104), (23, 0.017635977942221895), (24, 0.6586644816461499), (25, 0.0012598544680593319), (26, 0.0336732046289061), (27, 8.50067695927107e-08), (28, 0.0029309424801608674), (29, 1.1695064794195245e-14), (30, 0.16731042728339604), (31, 0.00014085123455263146), (32, 3.2374028392823313e-06), (33, 0.003198221306677475), (34, 0.0025667035341171373), (35, 0.021472175819203743), (36, 0.004142164969935732), (37, 0.06938436604790676), (38, 0.0692606286594695), (39, 5.285563457682892e-06), (40, 1.6615453007505372e-06), (41, 0.08923551131846168), (42, 9.635266635625434e-05)]\n"
     ]
    }
   ],
   "source": [
    "lPvalues = []\n",
    "for i in range(43):\n",
    "    lPvalues.append(computeChiTest(i, lResult)[1])\n",
    "plt.xlabel(\"P-Values\")\n",
    "plt.ylabel(\"Cardinality\")\n",
    "plt.title(\"Density Plot for the P-values of Chi-Square test of independance\")\n",
    "sns.distplot(lPvalues, hist=True, kde=False, \n",
    "             bins=40, color = 'blue',\n",
    "             hist_kws={'edgecolor':'black'})\n",
    "plt.savefig(\"DensityPlotPvaluesTotal\", dpi=900)\n",
    "plt.show()\n",
    "listCouplePvalueIndex = list(enumerate(lPvalues))\n",
    "print(listCouplePvalueIndex)"
   ]
  },
  {
   "cell_type": "code",
   "execution_count": 88,
   "metadata": {
    "scrolled": true
   },
   "outputs": [
    {
     "name": "stdout",
     "output_type": "stream",
     "text": [
      "[(29, 1.1695064794195245e-14), (27, 8.50067695927107e-08), (3, 9.383624848872028e-08), (40, 1.6615453007505372e-06), (32, 3.2374028392823313e-06), (2, 3.446066005139422e-06), (39, 5.285563457682892e-06), (16, 1.380445209768012e-05), (21, 7.283982319641645e-05), (42, 9.635266635625434e-05), (31, 0.00014085123455263146), (13, 0.00018637300589513178), (10, 0.0004316995661938087), (6, 0.0009365732399621506), (25, 0.0012598544680593319), (15, 0.0016460006394594052), (34, 0.0025667035341171373), (28, 0.0029309424801608674), (33, 0.003198221306677475), (36, 0.004142164969935732), (11, 0.00913090162693514), (18, 0.017107458644994758), (22, 0.01761502175091104), (23, 0.017635977942221895), (35, 0.021472175819203743), (20, 0.024981058217525352), (8, 0.026018155330585237), (5, 0.029466700744360853), (7, 0.029932970134767735), (26, 0.0336732046289061), (38, 0.0692606286594695), (37, 0.06938436604790676), (17, 0.08731785325739333), (41, 0.08923551131846168), (9, 0.13713218450962786), (30, 0.16731042728339604), (19, 0.31698797172558746), (4, 0.47256340171417155), (14, 0.558219498795457), (24, 0.6586644816461499), (12, 0.7913308715602524), (1, 0.811128735288512), (0, 0.901325920957894)]\n",
      "[29, 27, 3, 40, 32, 2, 39, 16, 21, 42, 31, 13, 10, 6, 25, 15, 34, 28, 33, 36, 11, 18, 22, 23, 35, 20, 8, 5, 7, 26, 38, 37, 17, 41, 9, 30, 19, 4, 14, 24, 12, 1, 0]\n"
     ]
    }
   ],
   "source": [
    "listCouplePvalueIndex = sorted(listCouplePvalueIndex, key = lambda k : k[1])\n",
    "print(listCouplePvalueIndex)\n",
    "listDisplay = [el[0] for el in listCouplePvalueIndex]#[0:21]\n",
    "listPrecised = [log(el[1])/(log(10)) for el in listCouplePvalueIndex]#[0:21]\n",
    "print(listDisplay)"
   ]
  },
  {
   "cell_type": "code",
   "execution_count": 41,
   "metadata": {},
   "outputs": [
    {
     "data": {
      "image/png": "[encoded data removed]",
      "text/plain": [
       "<Figure size 432x288 with 1 Axes>"
      ]
     },
     "metadata": {
      "needs_background": "light"
     },
     "output_type": "display_data"
    }
   ],
   "source": [
    "plt.xlabel(\"log(P-Values)\")\n",
    "plt.ylabel(\"Cardinality\")\n",
    "plt.title(\"Density Plot for the log-P-values of Chi-Square test of independance\")\n",
    "sns.distplot(listPrecised, hist=True, kde=False, \n",
    "             bins=40, color = 'blue',\n",
    "             hist_kws={'edgecolor':'black'})\n",
    "plt.savefig(\"DensityPlotPvaluesPrecised\", dpi=900)\n",
    "plt.show()"
   ]
  },
  {
   "cell_type": "code",
   "execution_count": 21,
   "metadata": {},
   "outputs": [
    {
     "name": "stdout",
     "output_type": "stream",
     "text": [
      "29\n",
      "[(44, 0.4772727272727273), (44, 0.022727272727272728), (31, 0.0), (52, 0.038461538461538464), (20, 0.05), (55, 0.03636363636363636)]\n",
      "27\n",
      "[(34, 0.11764705882352941), (29, 0.034482758620689655), (21, 0.0), (41, 0.4146341463414634), (56, 0.05357142857142857), (55, 0.07272727272727272)]\n",
      "3\n",
      "[(39, 0.0), (25, 0.04), (43, 0.0), (53, 0.2830188679245283), (21, 0.0), (11, 0.09090909090909091), (30, 0.0)]\n",
      "40\n",
      "[(63, 0.36507936507936506), (51, 0.11764705882352941), (60, 0.03333333333333333), (39, 0.07692307692307693)]\n",
      "32\n",
      "[(64, 0.0625), (16, 0.0625), (8, 0.125), (68, 0.14705882352941177), (87, 0.2988505747126437), (34, 0.08823529411764706), (41, 0.0), (13, 0.46153846153846156), (10, 0.0)]\n",
      "2\n",
      "[(43, 0.3023255813953488), (59, 0.288135593220339), (47, 0.0425531914893617), (45, 0.022222222222222223), (69, 0.07246376811594203), (9, 0.0)]\n",
      "39\n",
      "[(36, 0.2777777777777778), (61, 0.13114754098360656), (59, 0.0847457627118644), (33, 0.030303030303030304), (42, 0.42857142857142855), (38, 0.07894736842105263), (17, 0.11764705882352941)]\n",
      "21\n",
      "[(37, 0.24324324324324326), (22, 0.45454545454545453), (42, 0.35714285714285715), (32, 0.125), (19, 0.05263157894736842), (25, 0.0), (4, 0.75), (11, 0.45454545454545453)]\n"
     ]
    }
   ],
   "source": [
    "lCandidates = [29, 27, 3, 40, 32, 2, 39, 21]\n",
    "for cand in lCandidates:\n",
    "    print(cand)\n",
    "    print(lResult[cand])"
   ]
  },
  {
   "cell_type": "markdown",
   "metadata": {},
   "source": [
    "### Study of the distribution of the leaders among those clusters"
   ]
  },
  {
   "cell_type": "code",
   "execution_count": 79,
   "metadata": {},
   "outputs": [],
   "source": [
    "def study(lCluster, lHouse, ldUse):\n",
    "    lPropAdoption = []\n",
    "    lPropOfLeaders = []\n",
    "    for index, cluster in enumerate(lCluster):\n",
    "        numberOfLeaders = 0\n",
    "        for i in ldUse[index]:\n",
    "            if lHouse[i,-2] == 1 and lHouse[i, -1] == 1:\n",
    "                numberOfLeaders += 1\n",
    "        lPropOfLeaders.append(numberOfLeaders/(cluster[0]))\n",
    "        lPropAdoption.append(cluster[1])\n",
    "    return([lPropOfLeaders, lPropAdoption])"
   ]
  },
  {
   "cell_type": "code",
   "execution_count": 97,
   "metadata": {
    "scrolled": true
   },
   "outputs": [
    {
     "name": "stdout",
     "output_type": "stream",
     "text": [
      "[0.4772727272727273, 0.022727272727272728, 0.038461538461538464, 0.05, 0.03636363636363636, 0.11764705882352941, 0.034482758620689655, 0.4146341463414634, 0.05357142857142857, 0.07272727272727272, 0.04, 0.2830188679245283, 0.09090909090909091, 0.36507936507936506, 0.11764705882352941, 0.03333333333333333, 0.07692307692307693]\n"
     ]
    }
   ],
   "source": [
    "\n",
    "lCandidates = [29, 27, 3, 40, 32, 2, 39, 21]\n",
    "lCandidates = [29, 40, 3]#, 40, 32, 2, 39, 21]\n",
    "lCandidates = [29, 27, 3, 40]\n",
    "listPropLeaders = []\n",
    "listPropAdoption = []\n",
    "for indexCandidates in lCandidates:\n",
    "    [lPropOfLeaders, lPropAdoption] = study(lResult[indexCandidates], lHouseVill[indexCandidates], ldUse[indexCandidates])\n",
    "    lIndexToDiscard = []\n",
    "    for index in range(len(lPropOfLeaders)):\n",
    "        if lPropAdoption[index] == 0:\n",
    "            lIndexToDiscard = [index] + lIndexToDiscard\n",
    "    for index in lIndexToDiscard:\n",
    "        del lPropOfLeaders[index]\n",
    "        del lPropAdoption[index]\n",
    "    listPropLeaders += (lPropOfLeaders)\n",
    "    listPropAdoption += (lPropAdoption)\n",
    "print(listPropAdoption)"
   ]
  },
  {
   "cell_type": "code",
   "execution_count": 98,
   "metadata": {},
   "outputs": [
    {
     "data": {
      "text/plain": [
       "[<matplotlib.lines.Line2D at 0x7fcacaf31b70>]"
      ]
     },
     "execution_count": 98,
     "metadata": {},
     "output_type": "execute_result"
    },
    {
     "data": {
      "image/png": "[encoded data removed]",
      "text/plain": [
       "<Figure size 432x288 with 1 Axes>"
      ]
     },
     "metadata": {
      "needs_background": "light"
     },
     "output_type": "display_data"
    }
   ],
   "source": [
    "plt.ylabel(\"Proportion Of Leader\")\n",
    "gradient, intercept, r_value, p_value, std_err = linregress(listPropAdoption,listPropLeaders)\n",
    "\n",
    "mn=min(listPropAdoption)\n",
    "mx=max(listPropAdoption)\n",
    "plt.text(mn,0.4,\"R = \" + \"{:.3f}\".format(r_value) + \"      pValue = \" + \"{:.3f}\".format(p_value), size= 14)\n",
    "x1=np.linspace(mn,mx,500)\n",
    "y1=gradient*x1+intercept\n",
    "#sns.regplot(listPropAdoption, listPropLeaders)\n",
    "plt.plot(listPropAdoption,listPropLeaders, '.')\n",
    "plt.plot(x1,y1)"
   ]
  },
  {
   "cell_type": "code",
   "execution_count": 58,
   "metadata": {},
   "outputs": [
    {
     "data": {
      "text/plain": [
       "[(45, 0.4888888888888889),\n",
       " (18, 0.05555555555555555),\n",
       " (54, 0.0),\n",
       " (35, 0.02857142857142857),\n",
       " (19, 0.0),\n",
       " (26, 0.038461538461538464),\n",
       " (8, 0.0),\n",
       " (41, 0.04878048780487805)]"
      ]
     },
     "execution_count": 58,
     "metadata": {},
     "output_type": "execute_result"
    }
   ],
   "source": [
    "lResult[29]"
   ]
  },
  {
   "cell_type": "code",
   "execution_count": 59,
   "metadata": {},
   "outputs": [
    {
     "data": {
      "text/plain": [
       "array([[30, 6, 'HINDUISM', 'SCHEDULE CASTE', 0, 1, 0, 0, 0, 1, 0,\n",
       "        'Yes, Government', 'None', 'OWNED', 0, 0],\n",
       "       [30, 82, 'HINDUISM', 'OBC', 0, 1, 0, 0, 0, 3, 0, 'Yes, Private',\n",
       "        'None', 'OWNED', 0, 0],\n",
       "       [30, 84, 'HINDUISM', 'OBC', 0, 1, 0, 0, 0, 2, 0,\n",
       "        'Yes, Government', 'None', 'OWNED', 0, 0],\n",
       "       [30, 85, 'HINDUISM', 'OBC', 0, 1, 0, 0, 0, 2, 0,\n",
       "        'Yes, Government', 'None', 'OWNED', 0, 0],\n",
       "       [30, 86, 'HINDUISM', 'OBC', 0, 1, 0, 0, 0, 2, 0, 'Yes, Private',\n",
       "        'None', 'OWNED', 0, 0],\n",
       "       [30, 147, 'HINDUISM', 'GENERAL', 0, 1, 0, 0, 0, 2, 0,\n",
       "        'Yes, Private', 'None', 'OWNED', 0, 0],\n",
       "       [30, 148, 'HINDUISM', 'GENERAL', 0, 1, 0, 0, 0, 2, 0,\n",
       "        'Yes, Private', 'None', 'OWNED', 1, 0],\n",
       "       [30, 149, 'HINDUISM', 'OBC', 0, 0, 0, 1, 0, 2, 0,\n",
       "        'Yes, Government', 'None', 'OWNED', 0, 0],\n",
       "       [30, 152, 'HINDUISM', 'OBC', 0, 1, 0, 0, 0, 1, 0,\n",
       "        'Yes, Government', 'None', 'OWNED', 0, 0],\n",
       "       [30, 154, 'HINDUISM', 'GENERAL', 0, 1, 0, 0, 0, 4, 1,\n",
       "        'Yes, Private', 'None', 'OWNED', 1, 0],\n",
       "       [30, 156, 'HINDUISM', 'OBC', 0, 1, 0, 0, 0, 2, 1,\n",
       "        'Yes, Government', 'None', 'OWNED', 0, 0],\n",
       "       [30, 157, 'HINDUISM', 'OBC', 1, 0, 0, 0, 0, 1, 0, 'No', 'None',\n",
       "        'OWNED', 0, 0],\n",
       "       [30, 220, 'HINDUISM', 'OBC', 0, 1, 0, 0, 0, 2, 0, 'Yes, Private',\n",
       "        'None', 'OWNED', 0, 0],\n",
       "       [30, 221, 'HINDUISM', 'OBC', 0, 1, 0, 0, 0, 3, 4, 'Yes, Private',\n",
       "        'None', 'OWNED', 1, 0],\n",
       "       [30, 222, 'HINDUISM', 'OBC', 0, 1, 0, 0, 0, 2, 0,\n",
       "        'Yes, Government', 'None', 'OWNED', 0, 0],\n",
       "       [30, 223, 'HINDUISM', 'OBC', 0, 1, 0, 0, 0, 4, 1, 'Yes, Private',\n",
       "        'None', 'OWNED', 0, 0],\n",
       "       [30, 231, 'HINDUISM', 'OBC', 1, 0, 0, 0, 0, 1, 0,\n",
       "        'Yes, Government', 'None', 'OWNED', 0, 1],\n",
       "       [30, 234, 'HINDUISM', 'OBC', 0, 1, 0, 0, 0, 1, 0,\n",
       "        'Yes, Government', 'None', 'OWNED', 0, 0]], dtype=object)"
      ]
     },
     "execution_count": 59,
     "metadata": {},
     "output_type": "execute_result"
    }
   ],
   "source": [
    "lHouseVill[29][ldUse[29][2], :]"
   ]
  },
  {
   "cell_type": "code",
   "execution_count": 60,
   "metadata": {
    "scrolled": true
   },
   "outputs": [
    {
     "data": {
      "text/plain": [
       "[5,\n",
       " 81,\n",
       " 83,\n",
       " 84,\n",
       " 85,\n",
       " 146,\n",
       " 147,\n",
       " 148,\n",
       " 151,\n",
       " 153,\n",
       " 155,\n",
       " 156,\n",
       " 219,\n",
       " 220,\n",
       " 221,\n",
       " 222,\n",
       " 230,\n",
       " 233]"
      ]
     },
     "execution_count": 60,
     "metadata": {},
     "output_type": "execute_result"
    }
   ],
   "source": [
    "ldUse[29][2]"
   ]
  },
  {
   "cell_type": "markdown",
   "metadata": {},
   "source": [
    "### Is there a Correlation between Cluster of People and Proportion of adoption? yes7"
   ]
  },
  {
   "cell_type": "markdown",
   "metadata": {},
   "source": [
    "### Community Robustness via Scale Persistence"
   ]
  },
  {
   "cell_type": "code",
   "execution_count": 61,
   "metadata": {},
   "outputs": [],
   "source": [
    "## Community detection by changing parameter gamma and see if there is a \"Stagnation on certain communities\" with high proportion of adopters"
   ]
  },
  {
   "cell_type": "markdown",
   "metadata": {},
   "source": [
    "### Community robustness via Entropy"
   ]
  },
  {
   "cell_type": "markdown",
   "metadata": {},
   "source": [
    "We compare the clustering between the set of adopters/non-adopters with the clustering given by the Louvain algorithm. This measure behave as a metric on the set of clustering and gives a measure of how one cluster gives information about the other. Thus, for each village we can compute this distance and see which village has the smallerst distance."
   ]
  },
  {
   "cell_type": "code",
   "execution_count": 42,
   "metadata": {},
   "outputs": [],
   "source": [
    "def intersection(lst1, lst2): \n",
    "    lst3 = [value for value in lst1 if value in lst2] \n",
    "    return(lst3)\n",
    "\n",
    "def variationInfo(dCluster1, dCluster2):\n",
    "    lP1 = []\n",
    "    n1 = 0\n",
    "    for c1 in dCluster1:\n",
    "        n1 += len(dCluster1[c1])\n",
    "        lP1.append(len(dCluster1[c1]))\n",
    "    lP1 = [el/n1 for el in lP1]\n",
    "    lP2 = []\n",
    "    n2 = 0\n",
    "    for c2 in dCluster2:\n",
    "        n2 += len(dCluster2[c2])\n",
    "        lP2.append(len(dCluster2[c2]))\n",
    "    print(n1 == n2)\n",
    "    lP2 = [el/n2 for el in lP2]\n",
    "    lP1P2 = [[len(intersection(dCluster1[el1], dCluster2[el2]))/n1 for el2 in dCluster2] for el1 in dCluster1]\n",
    "    mutualI = 0\n",
    "    for el1 in dCluster1:\n",
    "        for el2 in dCluster2:\n",
    "            if lP1P2[el1][el2] != 0:\n",
    "                mutualI += lP1P2[el1][el2]*log((lP1P2[el1][el2])/(lP1[el1]*lP2[el2]))\n",
    "    \n",
    "    H1, H2 = 0, 0\n",
    "    for el1 in dCluster1:\n",
    "        H1 -= lP1[el1]*log(lP1[el1])\n",
    "    for el2 in dCluster2:\n",
    "        H2 -= lP2[el2]*log(lP2[el2])\n",
    "    return(H1 + H2 - 2*mutualI)\n",
    "    "
   ]
  },
  {
   "cell_type": "markdown",
   "metadata": {},
   "source": [
    "#### Comparison for each village"
   ]
  },
  {
   "cell_type": "code",
   "execution_count": 43,
   "metadata": {},
   "outputs": [
    {
     "name": "stdout",
     "output_type": "stream",
     "text": [
      "True\n",
      "True\n",
      "True\n",
      "True\n",
      "True\n",
      "True\n",
      "True\n",
      "True\n",
      "True\n",
      "True\n",
      "True\n",
      "True\n",
      "True\n",
      "True\n",
      "True\n",
      "True\n",
      "True\n",
      "True\n",
      "True\n",
      "True\n",
      "True\n",
      "True\n",
      "True\n",
      "True\n",
      "True\n",
      "True\n",
      "True\n",
      "True\n",
      "True\n",
      "True\n",
      "True\n",
      "True\n",
      "True\n",
      "True\n",
      "True\n",
      "True\n",
      "True\n",
      "True\n",
      "True\n",
      "True\n",
      "True\n",
      "True\n",
      "True\n",
      "[(40, 1.8781783561830359), (29, 2.042446713115873), (36, 2.084268734747148), (5, 2.1120858743719255), (42, 2.1305432901844172), (28, 2.147609393983194), (33, 2.199745914725564), (1, 2.2051210616294026), (18, 2.2207296432965307), (8, 2.2238715323241958), (27, 2.2251698177488564), (25, 2.2433641645216276), (3, 2.250859744604859), (12, 2.251126912563917), (2, 2.2732405027075195), (15, 2.278700086183633), (37, 2.2969159224580324), (7, 2.3032294876640833), (23, 2.3362116724084423), (41, 2.3588440525385836), (39, 2.3640742251828066), (31, 2.366967691635685), (24, 2.3865059386462746), (32, 2.4069549966839867), (21, 2.4106362233377423), (16, 2.4182177900091544), (35, 2.4460205092762597), (26, 2.4561427007411702), (38, 2.4609956343684303), (13, 2.4626150629682657), (34, 2.4697104932709775), (17, 2.506225029229058), (11, 2.5073336007854587), (0, 2.5580664821186314), (4, 2.576967764862754), (30, 2.5954196282413378), (10, 2.610114289858174), (6, 2.6149953723201227), (20, 2.657812475781183), (22, 2.721595638916944), (19, 2.74819228500595), (9, 2.778404560503875), (14, 2.847456210283255)]\n"
     ]
    }
   ],
   "source": [
    "lScoreInformation = []\n",
    "for i in range(43):\n",
    "    dCluster1 = ldUse[i]\n",
    "    lHouse = lHouseVill[i]\n",
    "    dCluster2 = {}\n",
    "    dCluster2[0] = []\n",
    "    dCluster2[1] = []\n",
    "    for node in range(lHouse.shape[0]):\n",
    "        if lHouse[node][-1] == 1:\n",
    "            dCluster2[0].append(node)\n",
    "        else:\n",
    "            dCluster2[1].append(node)\n",
    "    lScoreInformation.append((i,variationInfo(dCluster1, dCluster2)))\n",
    "lScoreInformation = sorted(lScoreInformation, key = lambda k : k[1])\n",
    "print(lScoreInformation)"
   ]
  },
  {
   "cell_type": "code",
   "execution_count": 89,
   "metadata": {},
   "outputs": [
    {
     "name": "stdout",
     "output_type": "stream",
     "text": [
      "[40, 29, 36, 5, 42, 28, 33, 1, 18, 8, 27, 25, 3, 12, 2, 15, 37, 7, 23, 41, 39, 31, 24, 32, 21, 16, 35, 26, 38, 13, 34, 17, 11, 0, 4, 30, 10, 6, 20, 22, 19, 9, 14]\n",
      "Fit results: mu = 2.38,  std = 0.21\n"
     ]
    },
    {
     "data": {
      "image/png": "[encoded data removed]",
      "text/plain": [
       "<Figure size 432x288 with 1 Axes>"
      ]
     },
     "metadata": {
      "needs_background": "light"
     },
     "output_type": "display_data"
    }
   ],
   "source": [
    "\n",
    "listVI = [el[1] for el in lScoreInformation]#[0:21]\n",
    "listDisplay = [el[0] for el in lScoreInformation]\n",
    "print(listDisplay)\n",
    "plt.xlabel(\"Variation of Information\")\n",
    "plt.ylabel(\"Cardinality\")\n",
    "plt.title(\"Density Plot for the Variation of Information between \\n modularity clusters and adopter/non-adopter clusters\")\n",
    "sns.distplot(listVI, hist=True, kde=False, \n",
    "             bins=40, color = 'blue',\n",
    "             hist_kws={'edgecolor':'black'})\n",
    "\n",
    "\n",
    "\n",
    "mu, std = norm.fit(listVI)\n",
    "xmin, xmax = plt.xlim()\n",
    "x = np.linspace(xmin, xmax, 100)\n",
    "p = norm.pdf(x, mu, std)\n",
    "plt.plot(x, p, 'k', linewidth=2)\n",
    "print(\"Fit results: mu = %.2f,  std = %.2f\" % (mu, std))\n",
    "plt.savefig(\"DensityPlotVI\", dpi=900)\n",
    "plt.show()"
   ]
  },
  {
   "cell_type": "code",
   "execution_count": null,
   "metadata": {},
   "outputs": [],
   "source": [
    "41 "
   ]
  },
  {
   "cell_type": "code",
   "execution_count": 27,
   "metadata": {},
   "outputs": [
    {
     "name": "stdout",
     "output_type": "stream",
     "text": [
      "40\n",
      "[(63, 0.36507936507936506), (51, 0.11764705882352941), (60, 0.03333333333333333), (39, 0.07692307692307693)]\n",
      "29\n",
      "[(44, 0.4772727272727273), (44, 0.022727272727272728), (31, 0.0), (52, 0.038461538461538464), (20, 0.05), (55, 0.03636363636363636)]\n",
      "36\n",
      "[(38, 0.34210526315789475), (28, 0.35714285714285715), (62, 0.41935483870967744), (46, 0.08695652173913043), (17, 0.23529411764705882)]\n",
      "5\n",
      "[(43, 0.06976744186046512), (57, 0.2807017543859649), (23, 0.30434782608695654), (42, 0.11904761904761904), (36, 0.16666666666666666)]\n",
      "42\n",
      "[(46, 0.15217391304347827), (37, 0.02702702702702703), (18, 0.3888888888888889), (29, 0.27586206896551724), (34, 0.47058823529411764)]\n",
      "28\n",
      "[(82, 0.08536585365853659), (27, 0.2962962962962963), (42, 0.09523809523809523), (69, 0.014492753623188406), (53, 0.11320754716981132), (43, 0.13953488372093023)]\n",
      "33\n",
      "[(34, 0.14705882352941177), (21, 0.0), (27, 0.07407407407407407), (25, 0.16), (32, 0.15625), (47, 0.3617021276595745)]\n",
      "1\n",
      "[(49, 0.1836734693877551), (25, 0.08), (18, 0.16666666666666666), (19, 0.15789473684210525), (67, 0.13432835820895522)]\n",
      "18\n",
      "[(67, 0.16417910447761194), (59, 0.0847457627118644), (19, 0.05263157894736842), (37, 0.02702702702702703), (28, 0.10714285714285714), (59, 0.0)]\n",
      "8\n",
      "[(39, 0.05128205128205128), (23, 0.08695652173913043), (34, 0.23529411764705882), (13, 0.15384615384615385), (48, 0.2916666666666667), (43, 0.3023255813953488)]\n"
     ]
    }
   ],
   "source": [
    "lCandidates2 = [40,29,36,5,42,28, 33, 1, 18, 8]\n",
    "for cand in lCandidates2:\n",
    "    print(cand)\n",
    "    print(lResult[cand])"
   ]
  },
  {
   "cell_type": "code",
   "execution_count": 71,
   "metadata": {},
   "outputs": [
    {
     "name": "stdout",
     "output_type": "stream",
     "text": [
      "[-0.24121201001213766, -1.7971668032719588, -10.620354053121169, -12.653152466156278, -1.0064765862939442, -2.345591175096596, -9.409113620787304, -2.1997056597133318, -4.556276608032253, -2.2491191276774596, -10.241634980856604, -7.402376958207835, -0.06573463923253127, -8.485794257061261, -0.12937537304941701, -6.218516615203994, -9.803777007987492, -5.6838200000259596, -2.9581124240277936, -1.0766444319548802, -5.303484508598987, -8.329044194749615, -3.74801231383426, -4.976341801081264, -0.055248579121104285, -10.277007633237922, -3.2430298040743466, -16.280534941360187, -6.63096830439215, -32.8561875332019, -0.8815347304880637, -9.685853004599496, -11.237292076564732, -5.7687365354517315, -4.444932576785313, -5.181011990482242, -2.97801029303752, -2.015914350594594, -1.8593775099910899, -12.161741250205687, -11.597219939239427, -3.568302544678758, -4.486916956341721]\n"
     ]
    },
    {
     "data": {
      "text/plain": [
       "[<matplotlib.lines.Line2D at 0x7f1a21814780>]"
      ]
     },
     "execution_count": 71,
     "metadata": {},
     "output_type": "execute_result"
    },
    {
     "data": {
      "image/png": "[encoded data removed]",
      "text/plain": [
       "<Figure size 432x288 with 1 Axes>"
      ]
     },
     "metadata": {
      "needs_background": "light"
     },
     "output_type": "display_data"
    }
   ],
   "source": [
    "listCouplePvalueIndexOri = sorted(listCouplePvalueIndex, key = lambda k : k[0])\n",
    "listPvalueOri = [log(el[1]) for el in listCouplePvalueIndexOri]\n",
    "print(listPvalueOri)\n",
    "lScoreInformationOri = sorted(lScoreInformation, key = lambda k : k[0])\n",
    "lScoreInformationOri = [el[1] for el in lScoreInformationOri]\n",
    "plt.ylabel(\"Proportion Of Leader\")\n",
    "gradient, intercept, r_value, p_value, std_err = linregress(listPvalueOri,lScoreInformationOri)\n",
    "\n",
    "mn=min(listPvalueOri)\n",
    "mx=max(listPvalueOri)\n",
    "plt.text(mn,0.4,\"R = \" + \"{:.3f}\".format(r_value) + \"      pValue = \" + \"{:.3f}\".format(p_value), size= 14)\n",
    "x1=np.linspace(mn,mx,500)\n",
    "y1=gradient*x1+intercept\n",
    "plt.plot(listPvalueOri,lScoreInformationOri, '.')\n",
    "plt.plot(x1,y1)"
   ]
  },
  {
   "cell_type": "markdown",
   "metadata": {},
   "source": [
    "### Community robustness via comparison with configuration model"
   ]
  },
  {
   "cell_type": "code",
   "execution_count": null,
   "metadata": {},
   "outputs": [],
   "source": [
    "[29, 27, 3, 10, 21, 6, 16, 32, 9, 23, 33, 2, 25, 40, 13, 42, 39]\n",
    "[29, 27, 3, 40, 32, 2, 39, 21]\n",
    "40,(29 (36, (5,  (42,(28, (33,1, (18, (8, (27, (25, (3, (12,  (2, (15,  (37,, (7,(23,(41, , (39, \n",
    "                                                                                               \n",
    "                                                                                               \n",
    "                                                                                               \n",
    "                                                                                               \n",
    "                                                                                               \n",
    "[29, 27, 3, 10, 21, 6, 16, 32, 9, 23, 33, 2, 25, 40, 13, 42, 39, 31, 28, 15, 4, 36, 11, 37, 19, 30, 41, 38, 7, 18, 1, 20, 0, 5, 34, 17, 26, 14, 22, 8, 24, 35, 12]\n",
    "[29, 27, 3, 40, 32, 2, 39, 16, 21, 42, 31, 13, 10, 6, 25, 15, 34, 28, 33, 36, 11, 18, 22, 23, 35, 20, 8, 5, 7, 26, 38, 37, 17, 41, 9, 30, 19, 4, 14, 24, 12, 1, 0]                                                                                               \n",
    "[40, 29, 36, 5, 42, 28, 33, 1, 18, 8, 27, 25, 3, 12, 2, 15, 37, 7, 23, 41, 39, 31, 24, 32, 21, 16, 35, 26, 38, 13, 34, 17, 11, 0, 4, 30, 10, 6, 20, 22, 19, 9, 14]                                                                                               \n",
    "29, 27, 3, 40, 32, 2                                                                                          \n",
    "                                                                                        "
   ]
  }
 ],
 "metadata": {
  "kernelspec": {
   "display_name": "Python 3",
   "language": "python",
   "name": "python3"
  },
  "language_info": {
   "codemirror_mode": {
    "name": "ipython",
    "version": 3
   },
   "file_extension": ".py",
   "mimetype": "text/x-python",
   "name": "python",
   "nbconvert_exporter": "python",
   "pygments_lexer": "ipython3",
   "version": "3.6.7"
  }
 },
 "nbformat": 4,
 "nbformat_minor": 2
}
