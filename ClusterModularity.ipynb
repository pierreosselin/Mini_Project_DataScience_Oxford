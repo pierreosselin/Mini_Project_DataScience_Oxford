{
 "cells": [
  {
   "cell_type": "code",
   "execution_count": 75,
   "metadata": {},
   "outputs": [],
   "source": [
    "import igraph\n",
    "import community\n",
    "import numpy as np\n",
    "from math import *\n",
    "import networkx as nx\n",
    "import matplotlib.pyplot as plt\n",
    "from igraph import *\n",
    "import pandas as pd\n",
    "import seaborn as sns\n",
    "import scipy\n",
    "from scipy.stats import linregress\n",
    "from scipy.stats import norm\n",
    "from scipy.stats import chi2_contingency\n",
    "from matplotlib.patches import Rectangle"
   ]
  },
  {
   "cell_type": "code",
   "execution_count": 2,
   "metadata": {},
   "outputs": [],
   "source": [
    "def partitionAnal(dictPart, lHouse):\n",
    "    lFraction = []\n",
    "    lMax = []\n",
    "    lValues = list(dictPart.values())\n",
    "    dUse = {}\n",
    "    for val in lValues:\n",
    "        dUse[val] = []\n",
    "    for node, val in dictPart.items():\n",
    "        dUse[val].append(node)\n",
    "    for part, lNodes in dUse.items():\n",
    "        denom = 0\n",
    "        n = len(lNodes)\n",
    "        if n > 1:\n",
    "            for node in lNodes:\n",
    "                if lHouse[node, -1] == 1:\n",
    "                    denom += 1\n",
    "            lFraction.append((n,denom/n))\n",
    "            lMax.append((denom/n, n))\n",
    "    maxEl = max(lMax)\n",
    "    return [lFraction, maxEl, dUse]"
   ]
  },
  {
   "cell_type": "code",
   "execution_count": 3,
   "metadata": {},
   "outputs": [
    {
     "name": "stdout",
     "output_type": "stream",
     "text": [
      "village                        3\n",
      "HHnum_in_village             143\n",
      "hohreligion             HINDUISM\n",
      "castesubcaste                NaN\n",
      "rooftype1                      0\n",
      "rooftype2                      1\n",
      "rooftype3                      0\n",
      "rooftype4                      0\n",
      "rooftype5                      0\n",
      "room_no                        4\n",
      "bed_no                         3\n",
      "electricity         Yes, Private\n",
      "latrine                     None\n",
      "ownrent                   LEASED\n",
      "leader                         0\n",
      "adopt                          0\n",
      "Name: 518, dtype: object\n",
      "village                        3\n",
      "HHnum_in_village             292\n",
      "hohreligion             HINDUISM\n",
      "castesubcaste                NaN\n",
      "rooftype1                      0\n",
      "rooftype2                      0\n",
      "rooftype3                      0\n",
      "rooftype4                      1\n",
      "rooftype5                      0\n",
      "room_no                        2\n",
      "bed_no                         0\n",
      "electricity         Yes, Private\n",
      "latrine                     None\n",
      "ownrent                   LEASED\n",
      "leader                         0\n",
      "adopt                          0\n",
      "Name: 667, dtype: object\n",
      "village                        4\n",
      "HHnum_in_village              52\n",
      "hohreligion             HINDUISM\n",
      "castesubcaste                NaN\n",
      "rooftype1                      0\n",
      "rooftype2                      0\n",
      "rooftype3                      0\n",
      "rooftype4                      1\n",
      "rooftype5                      0\n",
      "room_no                        1\n",
      "bed_no                         0\n",
      "electricity         Yes, Private\n",
      "latrine                    Owned\n",
      "ownrent                   LEASED\n",
      "leader                         0\n",
      "adopt                          0\n",
      "Name: 719, dtype: object\n",
      "village                        4\n",
      "HHnum_in_village              82\n",
      "hohreligion                ISLAM\n",
      "castesubcaste                NaN\n",
      "rooftype1                      0\n",
      "rooftype2                      0\n",
      "rooftype3                      0\n",
      "rooftype4                      1\n",
      "rooftype5                      0\n",
      "room_no                        1\n",
      "bed_no                         0\n",
      "electricity         Yes, Private\n",
      "latrine                    Owned\n",
      "ownrent                   LEASED\n",
      "leader                         0\n",
      "adopt                          0\n",
      "Name: 749, dtype: object\n",
      "village                        4\n",
      "HHnum_in_village             203\n",
      "hohreligion             HINDUISM\n",
      "castesubcaste                NaN\n",
      "rooftype1                      0\n",
      "rooftype2                      0\n",
      "rooftype3                      1\n",
      "rooftype4                      0\n",
      "rooftype5                      0\n",
      "room_no                        0\n",
      "bed_no                         0\n",
      "electricity         Yes, Private\n",
      "latrine                     None\n",
      "ownrent                   LEASED\n",
      "leader                         0\n",
      "adopt                          0\n",
      "Name: 869, dtype: object\n"
     ]
    },
    {
     "name": "stderr",
     "output_type": "stream",
     "text": [
      "/home/pierre/.local/lib/python3.6/site-packages/ipykernel_launcher.py:14: SettingWithCopyWarning: \n",
      "A value is trying to be set on a copy of a slice from a DataFrame\n",
      "\n",
      "See the caveats in the documentation: http://pandas.pydata.org/pandas-docs/stable/indexing.html#indexing-view-versus-copy\n",
      "  \n"
     ]
    },
    {
     "name": "stdout",
     "output_type": "stream",
     "text": [
      "village                       16\n",
      "HHnum_in_village             138\n",
      "hohreligion                ISLAM\n",
      "castesubcaste           MINORITY\n",
      "rooftype1                      0\n",
      "rooftype2                      0\n",
      "rooftype3                      0\n",
      "rooftype4                      1\n",
      "rooftype5                      0\n",
      "room_no                        2\n",
      "bed_no                         1\n",
      "electricity         Yes, Private\n",
      "latrine                     None\n",
      "ownrent                   LEASED\n",
      "leader                         0\n",
      "adopt                          0\n",
      "Name: 3233, dtype: object\n",
      "village                          16\n",
      "HHnum_in_village                139\n",
      "hohreligion                   ISLAM\n",
      "castesubcaste              MINORITY\n",
      "rooftype1                         0\n",
      "rooftype2                         1\n",
      "rooftype3                         0\n",
      "rooftype4                         0\n",
      "rooftype5                         0\n",
      "room_no                           2\n",
      "bed_no                            1\n",
      "electricity         Yes, Government\n",
      "latrine                        None\n",
      "ownrent                      LEASED\n",
      "leader                            0\n",
      "adopt                             0\n",
      "Name: 3234, dtype: object\n",
      "village                       16\n",
      "HHnum_in_village             153\n",
      "hohreligion                ISLAM\n",
      "castesubcaste           MINORITY\n",
      "rooftype1                      0\n",
      "rooftype2                      0\n",
      "rooftype3                      1\n",
      "rooftype4                      0\n",
      "rooftype5                      0\n",
      "room_no                        1\n",
      "bed_no                         0\n",
      "electricity         Yes, Private\n",
      "latrine                     None\n",
      "ownrent                   LEASED\n",
      "leader                         0\n",
      "adopt                          1\n",
      "Name: 3248, dtype: object\n",
      "village                       19\n",
      "HHnum_in_village             168\n",
      "hohreligion             HINDUISM\n",
      "castesubcaste                OBC\n",
      "rooftype1                      0\n",
      "rooftype2                      0\n",
      "rooftype3                      0\n",
      "rooftype4                      1\n",
      "rooftype5                      0\n",
      "room_no                        4\n",
      "bed_no                         2\n",
      "electricity         Yes, Private\n",
      "latrine                     None\n",
      "ownrent                   LEASED\n",
      "leader                         1\n",
      "adopt                          0\n",
      "Name: 3861, dtype: object\n",
      "village                       20\n",
      "HHnum_in_village             224\n",
      "hohreligion             HINDUISM\n",
      "castesubcaste                OBC\n",
      "rooftype1                      0\n",
      "rooftype2                      0\n",
      "rooftype3                      0\n",
      "rooftype4                      0\n",
      "rooftype5                      0\n",
      "room_no                        2\n",
      "bed_no                         1\n",
      "electricity         Yes, Private\n",
      "latrine                    Owned\n",
      "ownrent                   LEASED\n",
      "leader                         0\n",
      "adopt                          0\n",
      "Name: 4206, dtype: object\n",
      "village                          21\n",
      "HHnum_in_village                  2\n",
      "hohreligion                HINDUISM\n",
      "castesubcaste                   OBC\n",
      "rooftype1                         0\n",
      "rooftype2                         1\n",
      "rooftype3                         0\n",
      "rooftype4                         0\n",
      "rooftype5                         0\n",
      "room_no                           3\n",
      "bed_no                            2\n",
      "electricity         Yes, Government\n",
      "latrine                        None\n",
      "ownrent                      LEASED\n",
      "leader                            0\n",
      "adopt                             0\n",
      "Name: 4271, dtype: object\n",
      "village                       32\n",
      "HHnum_in_village              18\n",
      "hohreligion             HINDUISM\n",
      "castesubcaste                OBC\n",
      "rooftype1                      0\n",
      "rooftype2                      0\n",
      "rooftype3                      0\n",
      "rooftype4                      0\n",
      "rooftype5                      1\n",
      "room_no                        5\n",
      "bed_no                         1\n",
      "electricity         Yes, Private\n",
      "latrine                    Owned\n",
      "ownrent                   LEASED\n",
      "leader                         0\n",
      "adopt                          0\n",
      "Name: 6768, dtype: object\n",
      "village                          32\n",
      "HHnum_in_village                129\n",
      "hohreligion                HINDUISM\n",
      "castesubcaste                   OBC\n",
      "rooftype1                         0\n",
      "rooftype2                         0\n",
      "rooftype3                         1\n",
      "rooftype4                         0\n",
      "rooftype5                         0\n",
      "room_no                           3\n",
      "bed_no                            1\n",
      "electricity         Yes, Government\n",
      "latrine                        None\n",
      "ownrent                      LEASED\n",
      "leader                            0\n",
      "adopt                             1\n",
      "Name: 6879, dtype: object\n",
      "village                       33\n",
      "HHnum_in_village             222\n",
      "hohreligion             HINDUISM\n",
      "castesubcaste                OBC\n",
      "rooftype1                      0\n",
      "rooftype2                      0\n",
      "rooftype3                      0\n",
      "rooftype4                      0\n",
      "rooftype5                      1\n",
      "room_no                        1\n",
      "bed_no                         0\n",
      "electricity         Yes, Private\n",
      "latrine                     None\n",
      "ownrent                   LEASED\n",
      "leader                         0\n",
      "adopt                          0\n",
      "Name: 7301, dtype: object\n",
      "village                       36\n",
      "HHnum_in_village             283\n",
      "hohreligion             HINDUISM\n",
      "castesubcaste            GENERAL\n",
      "rooftype1                      1\n",
      "rooftype2                      0\n",
      "rooftype3                      0\n",
      "rooftype4                      0\n",
      "rooftype5                      0\n",
      "room_no                        1\n",
      "bed_no                         0\n",
      "electricity         Yes, Private\n",
      "latrine                     None\n",
      "ownrent                   LEASED\n",
      "leader                         1\n",
      "adopt                          1\n",
      "Name: 8165, dtype: object\n",
      "village                          42\n",
      "HHnum_in_village                 77\n",
      "hohreligion                HINDUISM\n",
      "castesubcaste                   OBC\n",
      "rooftype1                         0\n",
      "rooftype2                         0\n",
      "rooftype3                         0\n",
      "rooftype4                         1\n",
      "rooftype5                         0\n",
      "room_no                           5\n",
      "bed_no                            0\n",
      "electricity         Yes, Government\n",
      "latrine                        None\n",
      "ownrent                      LEASED\n",
      "leader                            0\n",
      "adopt                             0\n",
      "Name: 9328, dtype: object\n"
     ]
    }
   ],
   "source": [
    "path = \"/home/pierre/Documents/CourseOxford/MiniProjectData/social_0/social/adjacency_matrices/\"\n",
    "lData = []\n",
    "def importMat(i):\n",
    "    mat = pd.read_csv(path + \"adjmat\" + str(i) + \".csv\", header=None)\n",
    "    return mat\n",
    "\n",
    "for i in range(43):\n",
    "    lData.append(importMat(i+1).values)\n",
    "\n",
    "dfHouse = pd.read_csv(\"/home/pierre/Documents/CourseOxford/MiniProjectData/social_0/social/householdcharacteristics.csv\")\n",
    "for i in range(dfHouse.shape[0]):\n",
    "    if dfHouse.iloc[i][\"ownrent\"] == \"LEASED\":\n",
    "        print(dfHouse.iloc[i])\n",
    "        dfHouse.iloc[i][\"ownrent\"] = \"RENTED\"\n",
    "matHouse = dfHouse.values\n",
    "lHouseVill = []\n",
    "lHouseVillDf = []\n",
    "c = 0\n",
    "for i in range(43):\n",
    "    a = lData[i].shape[0]\n",
    "    lHouseVill.append(matHouse[c:c + a])\n",
    "    c += a"
   ]
  },
  {
   "cell_type": "code",
   "execution_count": 4,
   "metadata": {},
   "outputs": [
    {
     "name": "stdout",
     "output_type": "stream",
     "text": [
      "[[(34, 0.2647058823529412), (44, 0.20454545454545456), (15, 0.2), (28, 0.21428571428571427), (15, 0.3333333333333333), (22, 0.2727272727272727), (17, 0.23529411764705882)], [(56, 0.125), (19, 0.15789473684210525), (34, 0.20588235294117646), (69, 0.13043478260869565)], [(50, 0.06), (49, 0.30612244897959184), (14, 0.07142857142857142), (37, 0.02702702702702703), (16, 0.0), (40, 0.3), (66, 0.09090909090909091)], [(25, 0.0), (7, 0.0), (36, 0.0), (36, 0.0), (53, 0.2641509433962264), (26, 0.038461538461538464), (18, 0.05555555555555555), (21, 0.047619047619047616)], [(30, 0.3333333333333333), (16, 0.25), (14, 0.21428571428571427), (19, 0.21052631578947367), (9, 0.1111111111111111), (19, 0.15789473684210525)], [(23, 0.08695652173913043), (53, 0.32075471698113206), (41, 0.14634146341463414), (14, 0.35714285714285715), (70, 0.1)], [(21, 0.047619047619047616), (38, 0.21052631578947367), (27, 0.2222222222222222), (17, 0.17647058823529413), (24, 0.4166666666666667), (21, 0.42857142857142855), (18, 0.6666666666666666)], [(36, 0.08333333333333333), (23, 0.043478260869565216), (40, 0.25), (25, 0.12), (18, 0.1111111111111111), (10, 0.0), (18, 0.05555555555555555)], [(24, 0.20833333333333334), (25, 0.08), (45, 0.17777777777777778), (46, 0.30434782608695654), (36, 0.3055555555555556), (24, 0.041666666666666664)], [(20, 0.25), (19, 0.2631578947368421), (27, 0.5555555555555556), (10, 0.6), (20, 0.25), (13, 0.15384615384615385), (23, 0.391304347826087)], [(41, 0.4146341463414634), (24, 0.20833333333333334), (14, 0.6428571428571429), (33, 0.696969696969697), (24, 0.5), (16, 0.3125), (16, 0.1875), (25, 0.52)], [(18, 0.16666666666666666), (39, 0.20512820512820512), (30, 0.2), (34, 0.17647058823529413), (29, 0.2413793103448276), (26, 0.15384615384615385), (52, 0.019230769230769232), (8, 0.125)], [(8, 0.125), (28, 0.21428571428571427), (34, 0.058823529411764705), (40, 0.175), (30, 0.2), (18, 0.4444444444444444)], [(61, 0.22950819672131148), (63, 0.09523809523809523), (46, 0.391304347826087), (18, 0.05555555555555555), (55, 0.03636363636363636)], [(60, 0.23333333333333334), (23, 0.17391304347826086), (35, 0.3142857142857143), (49, 0.2653061224489796), (17, 0.29411764705882354), (33, 0.36363636363636365), (26, 0.19230769230769232), (27, 0.2962962962962963)], [(16, 0.6875), (51, 0.23529411764705882), (14, 0.35714285714285715), (30, 0.4), (24, 0.4583333333333333), (9, 0.0)], [(33, 0.0), (47, 0.19148936170212766), (17, 0.058823529411764705), (33, 0.30303030303030304), (45, 0.3333333333333333), (52, 0.1346153846153846)], [(42, 0.14285714285714285), (21, 0.38095238095238093), (41, 0.1951219512195122), (9, 0.0), (14, 0.07142857142857142), (26, 0.07692307692307693), (33, 0.30303030303030304), (8, 0.125)], [(32, 0.125), (27, 0.18518518518518517), (69, 0.10144927536231885), (25, 0.04), (16, 0.125), (35, 0.02857142857142857), (65, 0.015384615384615385)], [(38, 0.18421052631578946), (37, 0.24324324324324326), (13, 0.07692307692307693), (25, 0.32), (27, 0.07407407407407407), (21, 0.19047619047619047), (34, 0.17647058823529413), (47, 0.2127659574468085), (32, 0.1875)], [(57, 0.42105263157894735), (42, 0.21428571428571427), (20, 0.15), (17, 0.6470588235294118), (37, 0.35135135135135137)], [(40, 0.225), (27, 0.4074074074074074), (50, 0.44), (18, 0.16666666666666666), (33, 0.06060606060606061), (24, 0.0)], [(24, 0.20833333333333334), (45, 0.2222222222222222), (28, 0.17857142857142858), (29, 0.2413793103448276), (14, 0.2857142857142857), (35, 0.3142857142857143), (12, 0.16666666666666666), (24, 0.0)], [(27, 0.18518518518518517), (41, 0.3902439024390244), (47, 0.06382978723404255), (83, 0.30120481927710846), (30, 0.26666666666666666), (23, 0.08695652173913043)], [(29, 0.13793103448275862), (29, 0.20689655172413793), (32, 0.3125), (26, 0.2692307692307692), (15, 0.2)], [(31, 0.5161290322580645), (31, 0.1935483870967742), (38, 0.15789473684210525), (33, 0.06060606060606061), (13, 0.07692307692307693), (29, 0.06896551724137931)], [(49, 0.1836734693877551), (47, 0.02127659574468085), (32, 0.125), (41, 0.07317073170731707), (37, 0.02702702702702703), (17, 0.17647058823529413)], [(37, 0.10810810810810811), (22, 0.0), (40, 0.425), (57, 0.07017543859649122), (80, 0.05)], [(75, 0.08), (71, 0.014084507042253521), (27, 0.3333333333333333), (42, 0.09523809523809523), (17, 0.0), (43, 0.13953488372093023), (41, 0.14634146341463414)], [(45, 0.4888888888888889), (56, 0.0), (31, 0.0), (49, 0.04081632653061224), (41, 0.04878048780487805), (24, 0.041666666666666664)], [(39, 0.20512820512820512), (39, 0.15384615384615385), (30, 0.03333333333333333), (32, 0.1875), (15, 0.26666666666666666), (22, 0.18181818181818182), (19, 0.05263157894736842)], [(44, 0.0), (53, 0.05660377358490566), (27, 0.14814814814814814), (44, 0.06818181818181818), (62, 0.11290322580645161), (27, 0.2962962962962963), (53, 0.018867924528301886)], [(67, 0.07462686567164178), (24, 0.0), (36, 0.08333333333333333), (67, 0.14925373134328357), (68, 0.36764705882352944), (48, 0.16666666666666666), (20, 0.0), (11, 0.0)], [(21, 0.3333333333333333), (43, 0.13953488372093023), (36, 0.05555555555555555), (16, 0.0), (47, 0.3829787234042553), (13, 0.0), (10, 0.0)], [(44, 0.11363636363636363), (15, 0.06666666666666667), (33, 0.21212121212121213), (34, 0.2647058823529412), (34, 0.029411764705882353), (35, 0.08571428571428572), (26, 0.038461538461538464), (27, 0.0)], [(67, 0.22388059701492538), (77, 0.16883116883116883), (57, 0.10526315789473684), (41, 0.1951219512195122), (21, 0.14285714285714285), (24, 0.125)], [(44, 0.13636363636363635), (28, 0.35714285714285715), (39, 0.28205128205128205), (62, 0.41935483870967744), (18, 0.2222222222222222)], [(38, 0.23684210526315788), (33, 0.18181818181818182), (18, 0.2222222222222222), (9, 0.2222222222222222), (33, 0.0), (19, 0.05263157894736842)], [(17, 0.11764705882352941), (47, 0.1276595744680851), (22, 0.09090909090909091), (43, 0.2558139534883721), (32, 0.3125), (29, 0.3103448275862069), (9, 0.2222222222222222)], [(40, 0.25), (64, 0.125), (34, 0.029411764705882353), (42, 0.42857142857142855), (56, 0.08928571428571429), (34, 0.08823529411764706), (16, 0.125)], [(67, 0.34328358208955223), (20, 0.15), (49, 0.04081632653061224), (27, 0.07407407407407407), (17, 0.11764705882352941), (33, 0.06060606060606061)], [(23, 0.13043478260869565), (42, 0.11904761904761904), (46, 0.30434782608695654), (19, 0.10526315789473684), (40, 0.15)], [(38, 0.18421052631578946), (29, 0.1724137931034483), (43, 0.2558139534883721), (25, 0.08), (29, 0.4827586206896552)]]\n"
     ]
    }
   ],
   "source": [
    "lResult = []\n",
    "lMean = []\n",
    "lMax = []\n",
    "ldUse = []\n",
    "for i in range(43):\n",
    "    mat = lData[i]\n",
    "    G = nx.from_numpy_matrix(mat)\n",
    "    dictCom = community.best_partition(G)\n",
    "    [lFraction, maxEl, dUse] = partitionAnal(dictCom, lHouseVill[i])\n",
    "    ldUse.append(dUse)\n",
    "    lResult.append(lFraction)\n",
    "    maxEl = tuple((list(maxEl)) + [i])\n",
    "    lMax.append(maxEl)\n",
    "lMaxSorted = sorted(lMax, key=lambda k: k[0])\n",
    "print(lResult)"
   ]
  },
  {
   "cell_type": "markdown",
   "metadata": {},
   "source": [
    "Chi-Square test we treat each individual as an experiment with $X_{i}$ class of the cluster and $Y_{i}$ whether adoption or not. We want to know if thos two variables are independent for each village."
   ]
  },
  {
   "cell_type": "code",
   "execution_count": 5,
   "metadata": {},
   "outputs": [],
   "source": [
    "def createContingencyTable(lCluster):\n",
    "    table = np.zeros((2,len(lCluster)), dtype = int) # table[0] = non adopter\n",
    "    for index, cluster in enumerate(lCluster):\n",
    "        nAdopters = cluster[0]*cluster[1]\n",
    "        table[1][index] = round(nAdopters)\n",
    "        table[0][index] = cluster[0] - nAdopters\n",
    "    return table"
   ]
  },
  {
   "cell_type": "code",
   "execution_count": 6,
   "metadata": {},
   "outputs": [],
   "source": [
    "def computeChiTest(index, lResult):\n",
    "    lCluster = lResult[index]\n",
    "    table = createContingencyTable(lCluster)\n",
    "    res = chi2_contingency(table)\n",
    "    return res"
   ]
  },
  {
   "cell_type": "code",
   "execution_count": 7,
   "metadata": {},
   "outputs": [
    {
     "data": {
      "image/png": "[encoded data removed]",
      "text/plain": [
       "<Figure size 432x288 with 1 Axes>"
      ]
     },
     "metadata": {
      "needs_background": "light"
     },
     "output_type": "display_data"
    },
    {
     "name": "stdout",
     "output_type": "stream",
     "text": [
      "[(0, 0.9596462456603811), (1, 0.7217796435572034), (2, 2.716400964963702e-05), (3, 7.600721806796199e-06), (4, 0.6786381298660313), (5, 0.0058291267035724854), (6, 0.00037571791604203093), (7, 0.10924372104064302), (8, 0.041484719442815496), (9, 0.053565203477481185), (10, 0.002070760261597351), (11, 0.16187745077695542), (12, 0.037862496655096584), (13, 8.606024163286288e-06), (14, 0.748477469393392), (15, 0.004010030582010958), (16, 0.001369117561752162), (17, 0.04559445456134887), (18, 0.07303222778846488), (19, 0.5413490639595059), (20, 0.005064454547290014), (21, 2.6762034625140448e-05), (22, 0.2049542395621688), (23, 0.0023598008634823408), (24, 0.5551746690195145), (25, 2.0447572255420614e-05), (26, 0.043948373054996534), (27, 1.3501635146488995e-08), (28, 0.00024063574324834522), (29, 3.188071880439983e-16), (30, 0.2739450108506256), (31, 0.00026596283374260833), (32, 1.6322604411484764e-06), (33, 4.674529089351836e-05), (34, 0.006873640568380212), (35, 0.5870242751980994), (36, 0.028179451975130713), (37, 0.050581879739225316), (38, 0.17471236419494038), (39, 1.2352441149441277e-05), (40, 8.437448608852966e-05), (41, 0.1199088276335317), (42, 0.006126853753215024)]\n"
     ]
    }
   ],
   "source": [
    "lPvalues = []\n",
    "for i in range(43):\n",
    "    lPvalues.append(computeChiTest(i, lResult)[1])\n",
    "plt.xlabel(\"P-Values\")\n",
    "plt.ylabel(\"Cardinality\")\n",
    "plt.title(\"Density Plot for the P-values of Chi-Square test of independance\")\n",
    "sns.distplot(lPvalues, hist=True, kde=False, \n",
    "             bins=40, color = 'blue',\n",
    "             hist_kws={'edgecolor':'black'})\n",
    "plt.savefig(\"DensityPlotPvaluesTotal\", dpi=900)\n",
    "plt.show()\n",
    "listCouplePvalueIndex = list(enumerate(lPvalues))\n",
    "print(listCouplePvalueIndex)"
   ]
  },
  {
   "cell_type": "code",
   "execution_count": 8,
   "metadata": {
    "scrolled": true
   },
   "outputs": [
    {
     "name": "stdout",
     "output_type": "stream",
     "text": [
      "[(29, 3.188071880439983e-16), (27, 1.3501635146488995e-08), (32, 1.6322604411484764e-06), (3, 7.600721806796199e-06), (13, 8.606024163286288e-06), (39, 1.2352441149441277e-05), (25, 2.0447572255420614e-05), (21, 2.6762034625140448e-05), (2, 2.716400964963702e-05), (33, 4.674529089351836e-05), (40, 8.437448608852966e-05), (28, 0.00024063574324834522), (31, 0.00026596283374260833), (6, 0.00037571791604203093), (16, 0.001369117561752162), (10, 0.002070760261597351), (23, 0.0023598008634823408), (15, 0.004010030582010958), (20, 0.005064454547290014), (5, 0.0058291267035724854), (42, 0.006126853753215024), (34, 0.006873640568380212), (36, 0.028179451975130713), (12, 0.037862496655096584), (8, 0.041484719442815496), (26, 0.043948373054996534), (17, 0.04559445456134887), (37, 0.050581879739225316), (9, 0.053565203477481185), (18, 0.07303222778846488), (7, 0.10924372104064302), (41, 0.1199088276335317), (11, 0.16187745077695542), (38, 0.17471236419494038), (22, 0.2049542395621688), (30, 0.2739450108506256), (19, 0.5413490639595059), (24, 0.5551746690195145), (35, 0.5870242751980994), (4, 0.6786381298660313), (1, 0.7217796435572034), (14, 0.748477469393392), (0, 0.9596462456603811)]\n",
      "[29, 27, 32, 3, 13, 39, 25, 21, 2, 33, 40, 28, 31, 6, 16, 10, 23, 15, 20, 5, 42, 34, 36, 12, 8, 26, 17, 37, 9, 18, 7, 41, 11, 38, 22, 30, 19, 24, 35, 4, 1, 14, 0]\n"
     ]
    }
   ],
   "source": [
    "listCouplePvalueIndex = sorted(listCouplePvalueIndex, key = lambda k : k[1])\n",
    "print(listCouplePvalueIndex)\n",
    "listDisplay = [el[0] for el in listCouplePvalueIndex]#[0:21]\n",
    "listPrecised = [log(el[1])/(log(10)) for el in listCouplePvalueIndex]#[0:21]\n",
    "print(listDisplay)"
   ]
  },
  {
   "cell_type": "code",
   "execution_count": 9,
   "metadata": {},
   "outputs": [
    {
     "data": {
      "image/png": "[encoded data removed]",
      "text/plain": [
       "<Figure size 432x288 with 1 Axes>"
      ]
     },
     "metadata": {
      "needs_background": "light"
     },
     "output_type": "display_data"
    }
   ],
   "source": [
    "plt.xlabel(\"log(P-Values)\")\n",
    "plt.ylabel(\"Cardinality\")\n",
    "plt.title(\"Density Plot for the log-P-values of Chi-Square test of independance\")\n",
    "sns.distplot(listPrecised, hist=True, kde=False, \n",
    "             bins=40, color = 'blue',\n",
    "             hist_kws={'edgecolor':'black'})\n",
    "plt.savefig(\"DensityPlotPvaluesPrecised\", dpi=900)\n",
    "plt.show()"
   ]
  },
  {
   "cell_type": "code",
   "execution_count": 10,
   "metadata": {},
   "outputs": [
    {
     "name": "stdout",
     "output_type": "stream",
     "text": [
      "29\n",
      "[(45, 0.4888888888888889), (56, 0.0), (31, 0.0), (49, 0.04081632653061224), (41, 0.04878048780487805), (24, 0.041666666666666664)]\n",
      "27\n",
      "[(37, 0.10810810810810811), (22, 0.0), (40, 0.425), (57, 0.07017543859649122), (80, 0.05)]\n",
      "3\n",
      "[(25, 0.0), (7, 0.0), (36, 0.0), (36, 0.0), (53, 0.2641509433962264), (26, 0.038461538461538464), (18, 0.05555555555555555), (21, 0.047619047619047616)]\n",
      "40\n",
      "[(67, 0.34328358208955223), (20, 0.15), (49, 0.04081632653061224), (27, 0.07407407407407407), (17, 0.11764705882352941), (33, 0.06060606060606061)]\n",
      "32\n",
      "[(67, 0.07462686567164178), (24, 0.0), (36, 0.08333333333333333), (67, 0.14925373134328357), (68, 0.36764705882352944), (48, 0.16666666666666666), (20, 0.0), (11, 0.0)]\n",
      "2\n",
      "[(50, 0.06), (49, 0.30612244897959184), (14, 0.07142857142857142), (37, 0.02702702702702703), (16, 0.0), (40, 0.3), (66, 0.09090909090909091)]\n",
      "39\n",
      "[(40, 0.25), (64, 0.125), (34, 0.029411764705882353), (42, 0.42857142857142855), (56, 0.08928571428571429), (34, 0.08823529411764706), (16, 0.125)]\n",
      "21\n",
      "[(40, 0.225), (27, 0.4074074074074074), (50, 0.44), (18, 0.16666666666666666), (33, 0.06060606060606061), (24, 0.0)]\n"
     ]
    }
   ],
   "source": [
    "lCandidates = [29, 27, 3, 40, 32, 2, 39, 21]\n",
    "for cand in lCandidates:\n",
    "    print(cand)\n",
    "    print(lResult[cand])"
   ]
  },
  {
   "cell_type": "markdown",
   "metadata": {},
   "source": [
    "### Study of the distribution of the leaders among those clusters"
   ]
  },
  {
   "cell_type": "code",
   "execution_count": 11,
   "metadata": {},
   "outputs": [],
   "source": [
    "def study(lCluster, lHouse, ldUse):\n",
    "    lPropAdoption = []\n",
    "    lPropOfLeaders = []\n",
    "    for index, cluster in enumerate(lCluster):\n",
    "        numberOfLeaders = 0\n",
    "        for i in ldUse[index]:\n",
    "            if lHouse[i,-2] == 1: #and lHouse[i, -1] == 1:\n",
    "                \n",
    "                numberOfLeaders += 1\n",
    "        lPropOfLeaders.append(numberOfLeaders/(cluster[0]))\n",
    "        print(numberOfLeaders/(cluster[0]))\n",
    "        print(index)\n",
    "        lPropAdoption.append(cluster[1])\n",
    "    return([lPropOfLeaders, lPropAdoption])"
   ]
  },
  {
   "cell_type": "code",
   "execution_count": 12,
   "metadata": {
    "scrolled": true
   },
   "outputs": [
    {
     "name": "stdout",
     "output_type": "stream",
     "text": [
      "0.2\n",
      "0\n",
      "0.0\n",
      "1\n",
      "0.08333333333333333\n",
      "2\n",
      "0.08333333333333333\n",
      "3\n",
      "0.05660377358490566\n",
      "4\n",
      "0.038461538461538464\n",
      "5\n",
      "0.0\n",
      "6\n",
      "0.047619047619047616\n",
      "7\n",
      "[0.0, 0.0, 0.0, 0.0, 0.2641509433962264, 0.038461538461538464, 0.05555555555555555, 0.047619047619047616]\n",
      "[0.2, 0.0, 0.08333333333333333, 0.08333333333333333, 0.05660377358490566, 0.038461538461538464, 0.0, 0.047619047619047616]\n",
      "{0: [0, 1, 2, 3, 6, 8, 9, 11, 12, 13, 14, 15, 17, 18, 19, 20, 21, 22, 23, 24, 25, 26, 27, 28, 29, 30, 31, 32, 33, 34, 35, 36, 38, 39, 40, 41, 42, 43, 44, 45, 46, 48, 49, 57, 256], 1: [4], 2: [5, 16, 37, 47, 50, 51, 52, 53, 54, 55, 56, 58, 60, 61, 62, 63, 64, 65, 66, 67, 68, 69, 70, 71, 72, 73, 74, 75, 76, 77, 84, 85, 87, 142, 163, 170, 171, 172, 173, 175, 176, 182, 184, 185, 188, 195, 240, 243, 244, 246, 248, 249, 251, 252, 254, 255], 3: [7], 4: [10], 5: [59, 88, 89, 90, 91, 92, 93, 94, 95, 96, 137, 138, 140, 148, 150, 154, 162, 197, 214, 231, 232, 234, 235, 236, 237, 238, 239, 241, 245, 250, 253], 6: [78], 7: [79], 8: [80], 9: [81, 82, 83, 143, 146, 147, 151, 152, 153, 155, 156, 157, 158, 159, 160, 161, 198, 199, 200, 201, 202, 203, 204, 205, 206, 207, 208, 209, 210, 211, 212, 213, 215, 216, 217, 218, 219, 220, 221, 222, 223, 224, 225, 226, 227, 228, 229, 230, 233], 10: [86], 11: [97, 98, 99, 115, 116, 120, 121, 122, 123, 124, 125, 127, 128, 129, 131, 132, 133, 134, 135, 136, 139, 141, 144, 145, 164, 165, 166, 167, 168, 169, 174, 181, 183, 186, 187, 189, 190, 191, 192, 193, 194], 12: [100, 101, 102, 103, 104, 105, 106, 107, 108, 109, 110, 111, 112, 113, 114, 117, 118, 119, 126, 130, 177, 178, 179, 180], 13: [149], 14: [196], 15: [242], 16: [247]}\n"
     ]
    }
   ],
   "source": [
    "\n",
    "lCandidates = [29, 27, 3, 40, 32, 2, 39, 21]\n",
    "#lCandidates = [29, 40, 3]#, 40, 32, 2, 39, 21]\n",
    "lCandidates = [29, 27, 3, 40]\n",
    "lCandidates = [3]\n",
    "listPropLeaders = []\n",
    "listPropAdoption = []\n",
    "for indexCandidates in lCandidates:\n",
    "    [lPropOfLeaders, lPropAdoption] = study(lResult[indexCandidates], lHouseVill[indexCandidates], ldUse[indexCandidates])\n",
    "    #lIndexToDiscard = []\n",
    "    #for index in range(len(lPropOfLeaders)):\n",
    "    #    if lPropAdoption[index] == 0:\n",
    "    #        lIndexToDiscard = [index] + lIndexToDiscard\n",
    "    #for index in lIndexToDiscard:\n",
    "    #    del lPropOfLeaders[index]\n",
    "    #    del lPropAdoption[index]\n",
    "    listPropLeaders += (lPropOfLeaders)\n",
    "    listPropAdoption += (lPropAdoption)\n",
    "print(listPropAdoption)\n",
    "print(listPropLeaders)\n",
    "print(ldUse[29])"
   ]
  },
  {
   "cell_type": "code",
   "execution_count": 13,
   "metadata": {},
   "outputs": [
    {
     "data": {
      "image/png": "[encoded data removed]",
      "text/plain": [
       "<Figure size 432x288 with 1 Axes>"
      ]
     },
     "metadata": {
      "needs_background": "light"
     },
     "output_type": "display_data"
    }
   ],
   "source": [
    "plt.ylabel(\"Proportion Of Leader Adopting MicroFinance\")\n",
    "plt.xlabel(\"Final proportion of Adopters \")\n",
    "gradient, intercept, r_value, p_value, std_err = linregress(listPropAdoption,listPropLeaders)\n",
    "\n",
    "mn=min(listPropAdoption)\n",
    "mx=max(listPropAdoption)\n",
    "plt.text(mn,0.4,\"R = \" + \"{:.3f}\".format(r_value) + \"      pValue = \" + \"{:.3f}\".format(p_value), size= 14)\n",
    "x1=np.linspace(mn,mx,500)\n",
    "y1=gradient*x1+intercept\n",
    "#sns.regplot(listPropAdoption, listPropLeaders)\n",
    "plt.plot(listPropAdoption,listPropLeaders, '.')\n",
    "plt.plot(x1,y1)\n",
    "plt.tight_layout()\n",
    "plt.savefig(\"RegressionPropLeaders\", dpi=900)"
   ]
  },
  {
   "cell_type": "code",
   "execution_count": 14,
   "metadata": {},
   "outputs": [
    {
     "name": "stdout",
     "output_type": "stream",
     "text": [
      "0\n",
      "0.2\n",
      "2\n",
      "0.08333333333333333\n",
      "3\n",
      "0.08333333333333333\n"
     ]
    }
   ],
   "source": [
    "for i in range(len(listPropAdoption)):\n",
    "    if listPropAdoption[i] < 0.2 and listPropLeaders[i] > 0.075:\n",
    "        print(i)\n",
    "        print(listPropLeaders[i])"
   ]
  },
  {
   "cell_type": "code",
   "execution_count": 15,
   "metadata": {},
   "outputs": [
    {
     "name": "stdout",
     "output_type": "stream",
     "text": [
      "[5, 16, 37, 47, 50, 51, 52, 53, 54, 55, 56, 58, 60, 61, 62, 63, 64, 65, 66, 67, 68, 69, 70, 71, 72, 73, 74, 75, 76, 77, 84, 85, 87, 142, 163, 170, 171, 172, 173, 175, 176, 182, 184, 185, 188, 195, 240, 243, 244, 246, 248, 249, 251, 252, 254, 255]\n"
     ]
    }
   ],
   "source": [
    "print(ldUse[29][2])"
   ]
  },
  {
   "cell_type": "code",
   "execution_count": 16,
   "metadata": {},
   "outputs": [
    {
     "data": {
      "text/plain": [
       "array([[30, 6, 'HINDUISM', 'SCHEDULE CASTE', 0, 1, 0, 0, 0, 1, 0,\n",
       "        'Yes, Government', 'None', 'OWNED', 0, 0],\n",
       "       [30, 17, 'HINDUISM', 'SCHEDULE CASTE', 0, 1, 0, 0, 0, 2, 0,\n",
       "        'Yes, Government', 'None', 'OWNED', 0, 0],\n",
       "       [30, 38, 'HINDUISM', 'SCHEDULE CASTE', 0, 1, 0, 0, 0, 3, 0,\n",
       "        'Yes, Government', 'None', 'OWNED', 0, 0],\n",
       "       [30, 48, 'HINDUISM', 'OBC', 0, 1, 0, 0, 0, 2, 0,\n",
       "        'Yes, Government', 'None', 'OWNED', 1, 0],\n",
       "       [30, 51, 'HINDUISM', 'OBC', 0, 1, 0, 0, 0, 2, 0,\n",
       "        'Yes, Government', 'None', 'OWNED', 0, 0],\n",
       "       [30, 52, 'HINDUISM', 'OBC', 0, 1, 0, 0, 0, 2, 0,\n",
       "        'Yes, Government', 'Owned', 'OWNED', 1, 0],\n",
       "       [30, 53, 'HINDUISM', 'OBC', 0, 1, 0, 0, 0, 1, 0,\n",
       "        'Yes, Government', 'None', 'OWNED', 1, 0],\n",
       "       [30, 54, 'HINDUISM', 'OBC', 0, 1, 0, 0, 0, 2, 0,\n",
       "        'Yes, Government', 'None', 'OWNED', 0, 0],\n",
       "       [30, 55, 'HINDUISM', 'OBC', 0, 1, 0, 0, 0, 2, 2, 'Yes, Private',\n",
       "        'None', 'OWNED', 0, 0],\n",
       "       [30, 56, 'HINDUISM', 'OBC', 0, 1, 0, 0, 0, 3, 1,\n",
       "        'Yes, Government', 'None', 'OWNED', 1, 0],\n",
       "       [30, 57, 'HINDUISM', 'OBC', 0, 1, 0, 0, 0, 3, 1, 'Yes, Private',\n",
       "        'None', 'OWNED', 1, 0],\n",
       "       [30, 59, 'HINDUISM', 'OBC', 0, 1, 0, 0, 0, 1, 0,\n",
       "        'Yes, Government', 'None', 'OWNED', 0, 0],\n",
       "       [30, 61, 'HINDUISM', 'OBC', 0, 1, 0, 0, 0, 4, 3, 'Yes, Private',\n",
       "        'None', 'OWNED', 0, 0],\n",
       "       [30, 62, 'HINDUISM', 'OBC', 1, 0, 0, 0, 0, 1, 0,\n",
       "        'Yes, Government', 'None', 'OWNED', 0, 0],\n",
       "       [30, 63, 'HINDUISM', 'SCHEDULE TRIBE', 0, 1, 0, 0, 0, 2, 0,\n",
       "        'Yes, Government', 'None', 'OWNED', 0, 0],\n",
       "       [30, 64, 'HINDUISM', 'OBC', 0, 0, 0, 1, 0, 1, 0, 'No', 'None',\n",
       "        'OWNED', 0, 0],\n",
       "       [30, 65, 'HINDUISM', 'OBC', 0, 1, 0, 0, 0, 2, 1,\n",
       "        'Yes, Government', 'None', 'OWNED', 0, 0],\n",
       "       [30, 66, 'HINDUISM', 'OBC', 0, 1, 0, 0, 0, 1, 0,\n",
       "        'Yes, Government', 'None', 'OWNED', 0, 0],\n",
       "       [30, 67, 'HINDUISM', 'OBC', 0, 1, 0, 0, 0, 3, 2,\n",
       "        'Yes, Government', 'None', 'OWNED', 0, 0],\n",
       "       [30, 68, 'HINDUISM', 'OBC', 0, 1, 0, 0, 0, 4, 0,\n",
       "        'Yes, Government', 'None', 'OWNED', 0, 0],\n",
       "       [30, 69, 'HINDUISM', 'OBC', 0, 1, 0, 0, 0, 2, 0,\n",
       "        'Yes, Government', 'None', 'OWNED', 0, 0],\n",
       "       [30, 70, 'HINDUISM', 'OBC', 0, 1, 0, 0, 0, 2, 0,\n",
       "        'Yes, Government', 'None', 'OWNED', 0, 0],\n",
       "       [30, 71, 'HINDUISM', 'OBC', 0, 1, 0, 0, 0, 2, 0,\n",
       "        'Yes, Government', 'None', 'OWNED', 0, 0],\n",
       "       [30, 72, 'HINDUISM', 'OBC', 1, 0, 0, 0, 0, 1, 0,\n",
       "        'Yes, Government', 'None', 'OWNED', 0, 0],\n",
       "       [30, 73, 'HINDUISM', 'OBC', 1, 0, 0, 0, 0, 1, 0, 'No', 'None',\n",
       "        'OWNED BUT SHARED', 0, 0],\n",
       "       [30, 74, 'HINDUISM', 'OBC', 0, 1, 0, 0, 0, 3, 2,\n",
       "        'Yes, Government', 'Owned', 'OWNED', 0, 0],\n",
       "       [30, 75, 'HINDUISM', 'OBC', 0, 1, 0, 0, 0, 1, 0,\n",
       "        'Yes, Government', 'None', 'OWNED', 0, 0],\n",
       "       [30, 76, 'HINDUISM', 'OBC', 0, 1, 0, 0, 0, 2, 0,\n",
       "        'Yes, Government', 'None', 'OWNED', 0, 0],\n",
       "       [30, 77, 'HINDUISM', 'OBC', 0, 1, 0, 0, 0, 3, 0,\n",
       "        'Yes, Government', 'None', 'OWNED', 0, 0],\n",
       "       [30, 78, 'HINDUISM', 'OBC', 0, 1, 0, 0, 0, 1, 0,\n",
       "        'Yes, Government', 'None', 'OWNED', 0, 0],\n",
       "       [30, 85, 'HINDUISM', 'OBC', 0, 1, 0, 0, 0, 2, 0,\n",
       "        'Yes, Government', 'None', 'OWNED', 0, 0],\n",
       "       [30, 86, 'HINDUISM', 'OBC', 0, 1, 0, 0, 0, 2, 0, 'Yes, Private',\n",
       "        'None', 'OWNED', 0, 0],\n",
       "       [30, 88, 'HINDUISM', 'OBC', 0, 1, 0, 0, 0, 2, 0,\n",
       "        'Yes, Government', 'None', 'OWNED', 0, 0],\n",
       "       [30, 143, 'HINDUISM', 'GENERAL', 0, 1, 0, 0, 0, 2, 0,\n",
       "        'Yes, Government', 'None', 'OWNED', 1, 0],\n",
       "       [30, 164, 'HINDUISM', 'OBC', 0, 1, 0, 0, 0, 1, 0,\n",
       "        'Yes, Government', 'None', 'OWNED', 0, 0],\n",
       "       [30, 171, 'HINDUISM', 'GENERAL', 0, 1, 0, 0, 0, 2, 1,\n",
       "        'Yes, Private', 'None', 'OWNED', 0, 0],\n",
       "       [30, 172, 'HINDUISM', 'GENERAL', 0, 1, 0, 0, 0, 2, 0,\n",
       "        'Yes, Government', 'None', 'OWNED', 0, 0],\n",
       "       [30, 173, 'HINDUISM', 'GENERAL', 0, 1, 0, 0, 0, 3, 0,\n",
       "        'Yes, Government', 'None', 'OWNED', 0, 0],\n",
       "       [30, 174, 'HINDUISM', 'GENERAL', 0, 1, 0, 0, 0, 1, 0,\n",
       "        'Yes, Government', 'None', 'OWNED', 0, 0],\n",
       "       [30, 176, 'HINDUISM', 'GENERAL', 0, 0, 0, 1, 0, 1, 0, 'No',\n",
       "        'None', 'OWNED', 0, 0],\n",
       "       [30, 177, 'HINDUISM', 'OBC', 0, 0, 0, 1, 0, 1, 0, 'No', 'None',\n",
       "        'OWNED', 0, 0],\n",
       "       [30, 183, 'HINDUISM', 'GENERAL', 0, 1, 0, 0, 0, 4, 0,\n",
       "        'Yes, Private', 'None', 'OWNED', 0, 0],\n",
       "       [30, 185, 'HINDUISM', 'GENERAL', 0, 1, 0, 0, 0, 2, 0,\n",
       "        'Yes, Government', 'None', 'OWNED', 0, 0],\n",
       "       [30, 186, 'HINDUISM', 'GENERAL', 0, 1, 0, 0, 0, 3, 0,\n",
       "        'Yes, Government', 'None', 'OWNED', 1, 0],\n",
       "       [30, 189, 'HINDUISM', 'GENERAL', 0, 1, 0, 0, 0, 3, 2,\n",
       "        'Yes, Private', 'None', 'OWNED', 0, 0],\n",
       "       [30, 196, 'HINDUISM', 'OBC', 0, 1, 0, 0, 0, 2, 0,\n",
       "        'Yes, Government', 'None', 'OWNED', 1, 0],\n",
       "       [30, 241, 'HINDUISM', 'OBC', 0, 1, 0, 0, 0, 2, 0, 'Yes, Private',\n",
       "        'None', 'OWNED', 0, 0],\n",
       "       [30, 244, 'HINDUISM', 'OBC', 0, 1, 0, 0, 0, 2, 0, 'Yes, Private',\n",
       "        'None', 'OWNED', 1, 0],\n",
       "       [30, 245, 'HINDUISM', 'OBC', 0, 1, 0, 0, 0, 5, 0, 'Yes, Private',\n",
       "        'None', 'OWNED', 0, 0],\n",
       "       [30, 247, 'HINDUISM', 'OBC', 0, 1, 0, 0, 0, 2, 0,\n",
       "        'Yes, Government', 'None', 'OWNED', 0, 0],\n",
       "       [30, 249, 'HINDUISM', 'OBC', 0, 1, 0, 0, 0, 4, 1, 'Yes, Private',\n",
       "        'None', 'OWNED', 0, 0],\n",
       "       [30, 250, 'HINDUISM', 'OBC', 0, 1, 0, 0, 0, 2, 0, 'Yes, Private',\n",
       "        'None', 'OWNED', 0, 0],\n",
       "       [30, 252, 'HINDUISM', 'OBC', 0, 1, 0, 0, 0, 2, 0,\n",
       "        'Yes, Government', 'None', 'OWNED', 0, 0],\n",
       "       [30, 253, 'HINDUISM', 'OBC', 0, 1, 0, 0, 0, 2, 0,\n",
       "        'Yes, Government', 'None', 'OWNED', 0, 0],\n",
       "       [30, 255, 'HINDUISM', 'OBC', 0, 1, 0, 0, 0, 3, 0, 'No', 'Owned',\n",
       "        'OWNED', 1, 0],\n",
       "       [30, 256, 'HINDUISM', 'OBC', 0, 1, 0, 0, 0, 2, 0,\n",
       "        'Yes, Government', 'None', 'OWNED', 0, 0]], dtype=object)"
      ]
     },
     "execution_count": 16,
     "metadata": {},
     "output_type": "execute_result"
    }
   ],
   "source": [
    "lHouseVill[29][ldUse[29][2], :]"
   ]
  },
  {
   "cell_type": "code",
   "execution_count": 17,
   "metadata": {
    "scrolled": true
   },
   "outputs": [
    {
     "name": "stdout",
     "output_type": "stream",
     "text": [
      "{0: [0, 1, 2, 3, 6, 8, 9, 11, 12, 13, 14, 15, 17, 18, 19, 20, 21, 22, 23, 24, 25, 26, 27, 28, 29, 30, 31, 32, 33, 34, 35, 36, 38, 39, 40, 41, 42, 43, 44, 45, 46, 48, 49, 57, 256], 1: [4], 2: [5, 16, 37, 47, 50, 51, 52, 53, 54, 55, 56, 58, 60, 61, 62, 63, 64, 65, 66, 67, 68, 69, 70, 71, 72, 73, 74, 75, 76, 77, 84, 85, 87, 142, 163, 170, 171, 172, 173, 175, 176, 182, 184, 185, 188, 195, 240, 243, 244, 246, 248, 249, 251, 252, 254, 255], 3: [7], 4: [10], 5: [59, 88, 89, 90, 91, 92, 93, 94, 95, 96, 137, 138, 140, 148, 150, 154, 162, 197, 214, 231, 232, 234, 235, 236, 237, 238, 239, 241, 245, 250, 253], 6: [78], 7: [79], 8: [80], 9: [81, 82, 83, 143, 146, 147, 151, 152, 153, 155, 156, 157, 158, 159, 160, 161, 198, 199, 200, 201, 202, 203, 204, 205, 206, 207, 208, 209, 210, 211, 212, 213, 215, 216, 217, 218, 219, 220, 221, 222, 223, 224, 225, 226, 227, 228, 229, 230, 233], 10: [86], 11: [97, 98, 99, 115, 116, 120, 121, 122, 123, 124, 125, 127, 128, 129, 131, 132, 133, 134, 135, 136, 139, 141, 144, 145, 164, 165, 166, 167, 168, 169, 174, 181, 183, 186, 187, 189, 190, 191, 192, 193, 194], 12: [100, 101, 102, 103, 104, 105, 106, 107, 108, 109, 110, 111, 112, 113, 114, 117, 118, 119, 126, 130, 177, 178, 179, 180], 13: [149], 14: [196], 15: [242], 16: [247]}\n"
     ]
    }
   ],
   "source": [
    "print(ldUse[29])"
   ]
  },
  {
   "cell_type": "markdown",
   "metadata": {},
   "source": [
    "### Is there a Correlation between Cluster of People and Proportion of adoption? yes7"
   ]
  },
  {
   "cell_type": "markdown",
   "metadata": {},
   "source": [
    "### Community Robustness via Scale Persistence"
   ]
  },
  {
   "cell_type": "code",
   "execution_count": 18,
   "metadata": {},
   "outputs": [],
   "source": [
    "## Community detection by changing parameter gamma and see if there is a \"Stagnation on certain communities\" with high proportion of adopters"
   ]
  },
  {
   "cell_type": "markdown",
   "metadata": {},
   "source": [
    "### Community robustness via Entropy"
   ]
  },
  {
   "cell_type": "markdown",
   "metadata": {},
   "source": [
    "We compare the clustering between the set of adopters/non-adopters with the clustering given by the Louvain algorithm. This measure behave as a metric on the set of clustering and gives a measure of how one cluster gives information about the other. Thus, for each village we can compute this distance and see which village has the smallerst distance."
   ]
  },
  {
   "cell_type": "code",
   "execution_count": 19,
   "metadata": {},
   "outputs": [],
   "source": [
    "def intersection(lst1, lst2): \n",
    "    lst3 = [value for value in lst1 if value in lst2] \n",
    "    return(lst3)\n",
    "\n",
    "def variationInfo(dCluster1, dCluster2):\n",
    "    lP1 = []\n",
    "    n1 = 0\n",
    "    for c1 in dCluster1:\n",
    "        n1 += len(dCluster1[c1])\n",
    "        lP1.append(len(dCluster1[c1]))\n",
    "    lP1 = [el/n1 for el in lP1]\n",
    "    lP2 = []\n",
    "    n2 = 0\n",
    "    for c2 in dCluster2:\n",
    "        n2 += len(dCluster2[c2])\n",
    "        lP2.append(len(dCluster2[c2]))\n",
    "    print(n1 == n2)\n",
    "    lP2 = [el/n2 for el in lP2]\n",
    "    lP1P2 = [[len(intersection(dCluster1[el1], dCluster2[el2]))/n1 for el2 in dCluster2] for el1 in dCluster1]\n",
    "    mutualI = 0\n",
    "    for el1 in dCluster1:\n",
    "        for el2 in dCluster2:\n",
    "            if lP1P2[el1][el2] != 0:\n",
    "                mutualI += lP1P2[el1][el2]*log((lP1P2[el1][el2])/(lP1[el1]*lP2[el2]))\n",
    "    \n",
    "    H1, H2 = 0, 0\n",
    "    for el1 in dCluster1:\n",
    "        H1 -= lP1[el1]*log(lP1[el1])\n",
    "    for el2 in dCluster2:\n",
    "        H2 -= lP2[el2]*log(lP2[el2])\n",
    "    return(H1 + H2 - 2*mutualI)\n",
    "    "
   ]
  },
  {
   "cell_type": "markdown",
   "metadata": {},
   "source": [
    "#### Comparison for each village"
   ]
  },
  {
   "cell_type": "code",
   "execution_count": 20,
   "metadata": {},
   "outputs": [
    {
     "name": "stdout",
     "output_type": "stream",
     "text": [
      "True\n",
      "True\n",
      "True\n",
      "True\n",
      "True\n",
      "True\n",
      "True\n",
      "True\n",
      "True\n",
      "True\n",
      "True\n",
      "True\n",
      "True\n",
      "True\n",
      "True\n",
      "True\n",
      "True\n",
      "True\n",
      "True\n",
      "True\n",
      "True\n",
      "True\n",
      "True\n",
      "True\n",
      "True\n",
      "True\n",
      "True\n",
      "True\n",
      "True\n",
      "True\n",
      "True\n",
      "True\n",
      "True\n",
      "True\n",
      "True\n",
      "True\n",
      "True\n",
      "True\n",
      "True\n",
      "True\n",
      "True\n",
      "True\n",
      "True\n",
      "[(5, 2.0074719531743397), (29, 2.0178650746005684), (27, 2.021885481792349), (13, 2.0357173665848536), (1, 2.040438972963805), (41, 2.072328198062761), (37, 2.086574716911474), (36, 2.1208846915459105), (33, 2.1702467987635896), (40, 2.1847200828190827), (7, 2.1858991053434886), (42, 2.222836193647604), (21, 2.225449170868351), (25, 2.226467194704463), (12, 2.228169005464707), (28, 2.237339062131246), (8, 2.262337796275567), (35, 2.264764298881871), (24, 2.2911893940779886), (23, 2.319869892126036), (15, 2.337685872479182), (16, 2.3424271620461297), (18, 2.352362489788098), (26, 2.3588482380025546), (39, 2.3662635824618294), (31, 2.370470786427294), (3, 2.3840848122217255), (38, 2.418568944784627), (32, 2.418785927559213), (2, 2.424547841134872), (4, 2.4394426587759828), (20, 2.440035457296952), (34, 2.448221186933189), (30, 2.491259924082682), (17, 2.511447205730032), (6, 2.513975434287849), (0, 2.54461390580539), (11, 2.5948070070483062), (22, 2.6109027165027245), (10, 2.7181051657412034), (19, 2.776519322089728), (14, 2.8107422875138734), (9, 2.8762602944649314)]\n"
     ]
    }
   ],
   "source": [
    "lScoreInformation = []\n",
    "for i in range(43):\n",
    "    dCluster1 = ldUse[i]\n",
    "    lHouse = lHouseVill[i]\n",
    "    dCluster2 = {}\n",
    "    dCluster2[0] = []\n",
    "    dCluster2[1] = []\n",
    "    for node in range(lHouse.shape[0]):\n",
    "        if lHouse[node][-1] == 1:\n",
    "            dCluster2[0].append(node)\n",
    "        else:\n",
    "            dCluster2[1].append(node)\n",
    "    lScoreInformation.append((i,variationInfo(dCluster1, dCluster2)))\n",
    "lScoreInformation = sorted(lScoreInformation, key = lambda k : k[1])\n",
    "print(lScoreInformation)"
   ]
  },
  {
   "cell_type": "code",
   "execution_count": 21,
   "metadata": {},
   "outputs": [
    {
     "name": "stdout",
     "output_type": "stream",
     "text": [
      "[5, 29, 27, 13, 1, 41, 37, 36, 33, 40, 7, 42, 21, 25, 12, 28, 8, 35, 24, 23, 15, 16, 18, 26, 39, 31, 3, 38, 32, 2, 4, 20, 34, 30, 17, 6, 0, 11, 22, 10, 19, 14, 9]\n",
      "Fit results: mu = 2.34,  std = 0.22\n"
     ]
    },
    {
     "data": {
      "image/png": "[encoded data removed]",
      "text/plain": [
       "<Figure size 432x288 with 1 Axes>"
      ]
     },
     "metadata": {
      "needs_background": "light"
     },
     "output_type": "display_data"
    }
   ],
   "source": [
    "\n",
    "listVI = [el[1] for el in lScoreInformation]#[0:21]\n",
    "listDisplay = [el[0] for el in lScoreInformation]\n",
    "print(listDisplay)\n",
    "plt.xlabel(\"Variation of Information\")\n",
    "plt.ylabel(\"Cardinality\")\n",
    "plt.title(\"Density Plot for the Variation of Information between \\n modularity clusters and adopter/non-adopter clusters\")\n",
    "sns.distplot(listVI, hist=True, kde=False, \n",
    "             bins=40, color = 'blue',\n",
    "             hist_kws={'edgecolor':'black'})\n",
    "\n",
    "\n",
    "\n",
    "mu, std = norm.fit(listVI)\n",
    "xmin, xmax = plt.xlim()\n",
    "x = np.linspace(xmin, xmax, 100)\n",
    "p = norm.pdf(x, mu, std)\n",
    "plt.plot(x, p, 'k', linewidth=2)\n",
    "print(\"Fit results: mu = %.2f,  std = %.2f\" % (mu, std))\n",
    "plt.savefig(\"DensityPlotVI\", dpi=900)\n",
    "plt.show()"
   ]
  },
  {
   "cell_type": "code",
   "execution_count": 22,
   "metadata": {},
   "outputs": [
    {
     "data": {
      "text/plain": [
       "41"
      ]
     },
     "execution_count": 22,
     "metadata": {},
     "output_type": "execute_result"
    }
   ],
   "source": [
    "41 "
   ]
  },
  {
   "cell_type": "code",
   "execution_count": 23,
   "metadata": {},
   "outputs": [
    {
     "name": "stdout",
     "output_type": "stream",
     "text": [
      "40\n",
      "[(67, 0.34328358208955223), (20, 0.15), (49, 0.04081632653061224), (27, 0.07407407407407407), (17, 0.11764705882352941), (33, 0.06060606060606061)]\n",
      "29\n",
      "[(45, 0.4888888888888889), (56, 0.0), (31, 0.0), (49, 0.04081632653061224), (41, 0.04878048780487805), (24, 0.041666666666666664)]\n",
      "36\n",
      "[(44, 0.13636363636363635), (28, 0.35714285714285715), (39, 0.28205128205128205), (62, 0.41935483870967744), (18, 0.2222222222222222)]\n",
      "5\n",
      "[(23, 0.08695652173913043), (53, 0.32075471698113206), (41, 0.14634146341463414), (14, 0.35714285714285715), (70, 0.1)]\n",
      "42\n",
      "[(38, 0.18421052631578946), (29, 0.1724137931034483), (43, 0.2558139534883721), (25, 0.08), (29, 0.4827586206896552)]\n",
      "28\n",
      "[(75, 0.08), (71, 0.014084507042253521), (27, 0.3333333333333333), (42, 0.09523809523809523), (17, 0.0), (43, 0.13953488372093023), (41, 0.14634146341463414)]\n",
      "33\n",
      "[(21, 0.3333333333333333), (43, 0.13953488372093023), (36, 0.05555555555555555), (16, 0.0), (47, 0.3829787234042553), (13, 0.0), (10, 0.0)]\n",
      "1\n",
      "[(56, 0.125), (19, 0.15789473684210525), (34, 0.20588235294117646), (69, 0.13043478260869565)]\n",
      "18\n",
      "[(32, 0.125), (27, 0.18518518518518517), (69, 0.10144927536231885), (25, 0.04), (16, 0.125), (35, 0.02857142857142857), (65, 0.015384615384615385)]\n",
      "8\n",
      "[(24, 0.20833333333333334), (25, 0.08), (45, 0.17777777777777778), (46, 0.30434782608695654), (36, 0.3055555555555556), (24, 0.041666666666666664)]\n"
     ]
    }
   ],
   "source": [
    "lCandidates2 = [40,29,36,5,42,28, 33, 1, 18, 8]\n",
    "for cand in lCandidates2:\n",
    "    print(cand)\n",
    "    print(lResult[cand])"
   ]
  },
  {
   "cell_type": "code",
   "execution_count": 24,
   "metadata": {},
   "outputs": [
    {
     "name": "stdout",
     "output_type": "stream",
     "text": [
      "[-0.04119055653466065, -0.32603538950253114, -10.51361763547656, -11.787267340603341, -0.3876672391948843, -5.144888083395231, -7.886671919425175, -2.2141739199702837, -3.182430125747248, -2.926855610572671, -6.179839463000243, -1.8209157067080828, -3.273794190972223, -11.663048115826234, -0.28971417658633086, -5.5189564112560925, -6.59358886218299, -3.087969180353688, -2.6168544587015345, -0.613690988312333, -5.285508837645192, -10.528526293264944, -1.5849685464093461, -6.049178043385165, -0.5884724957952441, -10.797646398639131, -3.1247396736249535, -18.120455036874553, -8.332226206653035, -35.68194518004149, -1.294827883061249, -8.23215398171686, -13.32554473011748, -9.970797036853549, -4.980061390490078, -0.5326891053275216, -3.5691622199991175, -2.984161874745119, -1.744614290477329, -11.301656850500857, -9.380245499592741, -2.12102359469195, -5.095073914755578]\n"
     ]
    },
    {
     "data": {
      "text/plain": [
       "[<matplotlib.lines.Line2D at 0x7efe6be89fd0>]"
      ]
     },
     "execution_count": 24,
     "metadata": {},
     "output_type": "execute_result"
    },
    {
     "data": {
      "image/png": "[encoded data removed]",
      "text/plain": [
       "<Figure size 432x288 with 1 Axes>"
      ]
     },
     "metadata": {
      "needs_background": "light"
     },
     "output_type": "display_data"
    }
   ],
   "source": [
    "listCouplePvalueIndexOri = sorted(listCouplePvalueIndex, key = lambda k : k[0])\n",
    "listPvalueOri = [log(el[1]) for el in listCouplePvalueIndexOri]\n",
    "print(listPvalueOri)\n",
    "lScoreInformationOri = sorted(lScoreInformation, key = lambda k : k[0])\n",
    "lScoreInformationOri = [el[1] for el in lScoreInformationOri]\n",
    "plt.ylabel(\"Proportion Of Leader\")\n",
    "gradient, intercept, r_value, p_value, std_err = linregress(listPvalueOri,lScoreInformationOri)\n",
    "\n",
    "mn=min(listPvalueOri)\n",
    "mx=max(listPvalueOri)\n",
    "plt.text(mn,0.4,\"R = \" + \"{:.3f}\".format(r_value) + \"      pValue = \" + \"{:.3f}\".format(p_value), size= 14)\n",
    "x1=np.linspace(mn,mx,500)\n",
    "y1=gradient*x1+intercept\n",
    "plt.plot(listPvalueOri,lScoreInformationOri, '.')\n",
    "plt.plot(x1,y1)"
   ]
  },
  {
   "cell_type": "markdown",
   "metadata": {},
   "source": [
    "### Community robustness via comparison with configuration model"
   ]
  },
  {
   "cell_type": "code",
   "execution_count": 25,
   "metadata": {},
   "outputs": [
    {
     "name": "stdout",
     "output_type": "stream",
     "text": [
      "0.37662522017107297\n",
      "0.6933901172580751\n",
      "0.4834866032395535\n",
      "0.9745384553557424\n",
      "0.17316554494868647\n",
      "0.04467044058710291\n",
      "0.4742964893745307\n",
      "0.31270072905004187\n",
      "0.7943710025779334\n"
     ]
    }
   ],
   "source": [
    "lCandidates = [29,27, 3, 40, 32, 2, 39, 16, 21]\n",
    "for index in lCandidates:\n",
    "    Gplop = nx.from_numpy_matrix(lData[index])\n",
    "    n = Gplop.number_of_nodes()\n",
    "    z = [Gplop.degree[i] for i in range(n)]\n",
    "    Gconf = nx.configuration_model(z)\n",
    "    Gconf=nx.Graph(Gconf)\n",
    "    Gconf.remove_edges_from(Gconf.selfloop_edges())\n",
    "    Aconf = nx.adjacency_matrix(Gconf)\n",
    "    dictCom = community.best_partition(Gconf)\n",
    "    [lFraction, maxEl, dUse] = partitionAnal(dictCom, lHouseVill[index])\n",
    "    resultConf = lFraction\n",
    "    table = createContingencyTable(resultConf)\n",
    "    res = chi2_contingency(table)\n",
    "    print(res[1])"
   ]
  },
  {
   "cell_type": "code",
   "execution_count": 26,
   "metadata": {},
   "outputs": [
    {
     "name": "stdout",
     "output_type": "stream",
     "text": [
      "0.8588967938893339\n"
     ]
    }
   ],
   "source": [
    "dictCom = community.best_partition(Gconf)\n",
    "[lFraction, maxEl, dUse] = partitionAnal(dictCom, lHouseVill[29])\n",
    "resultConf = lFraction\n",
    "table = createContingencyTable(resultConf)\n",
    "res = chi2_contingency(table)\n",
    "\n",
    "print(res[1])"
   ]
  },
  {
   "cell_type": "code",
   "execution_count": 27,
   "metadata": {},
   "outputs": [
    {
     "name": "stdout",
     "output_type": "stream",
     "text": [
      "\n",
      "False\n"
     ]
    },
    {
     "ename": "AttributeError",
     "evalue": "module 'networkx' has no attribute 'graphviz_layout'",
     "output_type": "error",
     "traceback": [
      "\u001b[0;31m---------------------------------------\u001b[0m",
      "\u001b[0;31mAttributeError\u001b[0mTraceback (most recent call last)",
      "\u001b[0;32m<ipython-input-27-fc8e78b78d0c>\u001b[0m in \u001b[0;36m<module>\u001b[0;34m\u001b[0m\n\u001b[1;32m      8\u001b[0m     \u001b[0;32melse\u001b[0m\u001b[0;34m:\u001b[0m\u001b[0;34m\u001b[0m\u001b[0;34m\u001b[0m\u001b[0m\n\u001b[1;32m      9\u001b[0m         \u001b[0mcolor_map\u001b[0m\u001b[0;34m.\u001b[0m\u001b[0mappend\u001b[0m\u001b[0;34m(\u001b[0m\u001b[0;34m'red'\u001b[0m\u001b[0;34m)\u001b[0m\u001b[0;34m\u001b[0m\u001b[0;34m\u001b[0m\u001b[0m\n\u001b[0;32m---> 10\u001b[0;31m \u001b[0mpos\u001b[0m \u001b[0;34m=\u001b[0m \u001b[0mnx\u001b[0m\u001b[0;34m.\u001b[0m\u001b[0mgraphviz_layout\u001b[0m\u001b[0;34m(\u001b[0m\u001b[0mtree\u001b[0m\u001b[0;34m,\u001b[0m\u001b[0mk\u001b[0m\u001b[0;34m=\u001b[0m\u001b[0;36m1\u001b[0m\u001b[0;34m,\u001b[0m\u001b[0miterations\u001b[0m\u001b[0;34m=\u001b[0m\u001b[0;36m50\u001b[0m\u001b[0;34m)\u001b[0m\u001b[0;34m\u001b[0m\u001b[0;34m\u001b[0m\u001b[0m\n\u001b[0m\u001b[1;32m     11\u001b[0m \u001b[0mnx\u001b[0m\u001b[0;34m.\u001b[0m\u001b[0mdraw\u001b[0m\u001b[0;34m(\u001b[0m\u001b[0mtree\u001b[0m\u001b[0;34m,\u001b[0m\u001b[0mpos\u001b[0m\u001b[0;34m,\u001b[0m \u001b[0mnode_color\u001b[0m \u001b[0;34m=\u001b[0m \u001b[0mcolor_map\u001b[0m\u001b[0;34m,\u001b[0m\u001b[0mwith_labels\u001b[0m \u001b[0;34m=\u001b[0m \u001b[0;32mFalse\u001b[0m\u001b[0;34m)\u001b[0m\u001b[0;34m\u001b[0m\u001b[0;34m\u001b[0m\u001b[0m\n\u001b[1;32m     12\u001b[0m \u001b[0mprint\u001b[0m\u001b[0;34m(\u001b[0m\u001b[0mcolor_map\u001b[0m\u001b[0;34m)\u001b[0m\u001b[0;34m\u001b[0m\u001b[0;34m\u001b[0m\u001b[0m\n",
      "\u001b[0;31mAttributeError\u001b[0m: module 'networkx' has no attribute 'graphviz_layout'"
     ]
    }
   ],
   "source": [
    "tree = nx.minimum_spanning_tree(nx.from_numpy_matrix(lData[29]))\n",
    "print(tree)\n",
    "print(nx.is_tree(tree))\n",
    "color_map = []\n",
    "for i in range(lData[29].shape[0]):\n",
    "    if lHouseVill[29][i,-1] == 1:\n",
    "        color_map.append('blue')\n",
    "    else:\n",
    "        color_map.append('red')\n",
    "pos = nx.graphviz_layout(tree,k=1,iterations=50)\n",
    "nx.draw(tree,pos, node_color = color_map,with_labels = False)\n",
    "print(color_map)"
   ]
  },
  {
   "cell_type": "code",
   "execution_count": null,
   "metadata": {},
   "outputs": [],
   "source": [
    "nTest = 0\n",
    "for i in range(43):\n",
    "    nTest += lData[i].shape[0]\n",
    "print(nTest)"
   ]
  },
  {
   "cell_type": "code",
   "execution_count": 76,
   "metadata": {},
   "outputs": [
    {
     "name": "stdout",
     "output_type": "stream",
     "text": [
      "257\n",
      "<class 'numpy.ndarray'>\n"
     ]
    },
    {
     "ename": "AttributeError",
     "evalue": "module 'networkx' has no attribute 'graphviz_layout'",
     "output_type": "error",
     "traceback": [
      "\u001b[0;31m---------------------------------------\u001b[0m",
      "\u001b[0;31mAttributeError\u001b[0mTraceback (most recent call last)",
      "\u001b[0;32m<ipython-input-76-b007ca161f88>\u001b[0m in \u001b[0;36m<module>\u001b[0;34m\u001b[0m\n\u001b[1;32m      5\u001b[0m \u001b[0mAtree\u001b[0m \u001b[0;34m=\u001b[0m \u001b[0mscipy\u001b[0m\u001b[0;34m.\u001b[0m\u001b[0msparse\u001b[0m\u001b[0;34m.\u001b[0m\u001b[0mcsr_matrix\u001b[0m\u001b[0;34m.\u001b[0m\u001b[0mtoarray\u001b[0m\u001b[0;34m(\u001b[0m\u001b[0mnx\u001b[0m\u001b[0;34m.\u001b[0m\u001b[0madjacency_matrix\u001b[0m\u001b[0;34m(\u001b[0m\u001b[0mTree\u001b[0m\u001b[0;34m)\u001b[0m\u001b[0;34m)\u001b[0m\u001b[0;34m\u001b[0m\u001b[0;34m\u001b[0m\u001b[0m\n\u001b[1;32m      6\u001b[0m \u001b[0mprint\u001b[0m\u001b[0;34m(\u001b[0m\u001b[0mtype\u001b[0m\u001b[0;34m(\u001b[0m\u001b[0mAtree\u001b[0m\u001b[0;34m)\u001b[0m\u001b[0;34m)\u001b[0m\u001b[0;34m\u001b[0m\u001b[0;34m\u001b[0m\u001b[0m\n\u001b[0;32m----> 7\u001b[0;31m \u001b[0mpos\u001b[0m \u001b[0;34m=\u001b[0m \u001b[0mnx\u001b[0m\u001b[0;34m.\u001b[0m\u001b[0mgraphviz_layout\u001b[0m\u001b[0;34m(\u001b[0m\u001b[0mGd\u001b[0m\u001b[0;34m,\u001b[0m\u001b[0mk\u001b[0m\u001b[0;34m=\u001b[0m\u001b[0;36m1\u001b[0m\u001b[0;34m,\u001b[0m\u001b[0miterations\u001b[0m\u001b[0;34m=\u001b[0m\u001b[0;36m50\u001b[0m\u001b[0;34m)\u001b[0m\u001b[0;34m\u001b[0m\u001b[0;34m\u001b[0m\u001b[0m\n\u001b[0m\u001b[1;32m      8\u001b[0m \u001b[0mnx\u001b[0m\u001b[0;34m.\u001b[0m\u001b[0mdraw\u001b[0m\u001b[0;34m(\u001b[0m\u001b[0mGd\u001b[0m\u001b[0;34m,\u001b[0m\u001b[0mpos\u001b[0m\u001b[0;34m,\u001b[0m \u001b[0mnode_color\u001b[0m \u001b[0;34m=\u001b[0m \u001b[0mcolor_map\u001b[0m\u001b[0;34m,\u001b[0m\u001b[0mwith_labels\u001b[0m \u001b[0;34m=\u001b[0m \u001b[0;32mFalse\u001b[0m\u001b[0;34m)\u001b[0m\u001b[0;34m\u001b[0m\u001b[0;34m\u001b[0m\u001b[0m\n",
      "\u001b[0;31mAttributeError\u001b[0m: module 'networkx' has no attribute 'graphviz_layout'"
     ]
    }
   ],
   "source": [
    "Ad = lData[29]\n",
    "print(Ad.shape[0])\n",
    "Gd = nx.from_numpy_matrix(Ad)\n",
    "Tree = nx.algorithms.tree.mst.maximum_spanning_tree(Gd)\n",
    "Atree = scipy.sparse.csr_matrix.toarray(nx.adjacency_matrix(Tree))\n",
    "print(type(Atree))\n",
    "pos = nx.graphviz_layout(Gd,k=1,iterations=50)\n",
    "nx.draw(Gd,pos, node_color = color_map,with_labels = False)"
   ]
  },
  {
   "cell_type": "code",
   "execution_count": 77,
   "metadata": {},
   "outputs": [
    {
     "name": "stdout",
     "output_type": "stream",
     "text": [
      "False\n",
      "False\n",
      "257\n"
     ]
    }
   ],
   "source": [
    "g = igraph.Graph.Weighted_Adjacency(Ad.tolist())\n",
    "\n",
    "g.vs[\"label\"] = [i for i in range(257)]\n",
    "print(g.is_connected())\n",
    "inv_weight = [-1./w for w in g.es[\"weight\"]]\n",
    "nice = g.spanning_tree(weights=inv_weight)\n",
    "nice = igraph.Graph.Adjacency(Atree.tolist() , mode = ADJ_UNDIRECTED)\n",
    "print(nice.is_connected())\n",
    "print(g.vcount())"
   ]
  },
  {
   "cell_type": "code",
   "execution_count": 78,
   "metadata": {},
   "outputs": [
    {
     "name": "stdout",
     "output_type": "stream",
     "text": [
      "17\n"
     ]
    }
   ],
   "source": [
    "lColors = [0 for i in range(lData[29].shape[0])]\n",
    "print(len(ldUse[29]))\n",
    "pal = igraph.drawing.colors.ClusterColoringPalette(len(ldUse))\n",
    "for i in ldUse[29]:\n",
    "    for index in ldUse[29][i]:\n",
    "        lColors[index] = pal.get(i)\n",
    "nice.vs['color'] = lColors\n",
    "\n",
    "nice.vs[\"label\"] = [lHouseVill[29][i,-1] for i in range(lData[29].shape[0])]"
   ]
  },
  {
   "cell_type": "code",
   "execution_count": 79,
   "metadata": {},
   "outputs": [
    {
     "data": {
      "text/plain": [
       "[(1.0, 0.0, 0.0, 1.0),\n",
       " (0.0, 1.0, 0.0, 1.0),\n",
       " (0.0, 0.0, 1.0, 1.0),\n",
       " (0.0, 0.0, 1.0, 1.0)]"
      ]
     },
     "execution_count": 79,
     "metadata": {},
     "output_type": "execute_result"
    }
   ],
   "source": [
    "pal.get_many([0,1,2, 2])"
   ]
  },
  {
   "cell_type": "code",
   "execution_count": 91,
   "metadata": {},
   "outputs": [],
   "source": [
    "igraph.plot(nice,\"graph29.pdf\")\n",
    "#plt.savefig(\"graph29\", dpi = 900)\n",
    "plt.show()"
   ]
  },
  {
   "cell_type": "code",
   "execution_count": 67,
   "metadata": {},
   "outputs": [
    {
     "data": {
      "text/plain": [
       "1784"
      ]
     },
     "execution_count": 67,
     "metadata": {},
     "output_type": "execute_result"
    }
   ],
   "source": [
    "np.sum(Ad)"
   ]
  },
  {
   "cell_type": "code",
   "execution_count": null,
   "metadata": {},
   "outputs": [],
   "source": [
    "igraph.plot(g)"
   ]
  },
  {
   "cell_type": "code",
   "execution_count": null,
   "metadata": {},
   "outputs": [],
   "source": []
  }
 ],
 "metadata": {
  "kernelspec": {
   "display_name": "Python 3",
   "language": "python",
   "name": "python3"
  },
  "language_info": {
   "codemirror_mode": {
    "name": "ipython",
    "version": 3
   },
   "file_extension": ".py",
   "mimetype": "text/x-python",
   "name": "python",
   "nbconvert_exporter": "python",
   "pygments_lexer": "ipython3",
   "version": "3.7.4"
  }
 },
 "nbformat": 4,
 "nbformat_minor": 2
}
